{
  "cells": [
    {
      "cell_type": "markdown",
      "metadata": {
        "pycharm": {}
      },
      "source": [
        "# Matplotlib\n",
        "\n",
        "\u003e Python 的 2D 图形库"
      ]
    },
    {
      "cell_type": "markdown",
      "metadata": {
        "heading_collapsed": true,
        "pycharm": {}
      },
      "source": [
        "## Install\n",
        "\n",
        "`conda install matplotlib`"
      ]
    },
    {
      "cell_type": "markdown",
      "metadata": {
        "heading_collapsed": true,
        "pycharm": {}
      },
      "source": [
        "## Import"
      ]
    },
    {
      "cell_type": "code",
      "execution_count": 2,
      "metadata": {
        "ExecuteTime": {
          "end_time": "2019-07-01T07:43:56.175671Z",
          "start_time": "2019-07-01T07:43:54.376214Z"
        },
        "hidden": true,
        "pycharm": {}
      },
      "outputs": [
        {
          "data": {
            "text/plain": [
              "module"
            ]
          },
          "execution_count": 2,
          "metadata": {},
          "output_type": "execute_result"
        }
      ],
      "source": [
        "import matplotlib.pyplot as plt\n",
        "\n",
        "type(plt)"
      ]
    },
    {
      "cell_type": "markdown",
      "metadata": {
        "heading_collapsed": true,
        "pycharm": {}
      },
      "source": [
        "## Basic"
      ]
    },
    {
      "cell_type": "code",
      "execution_count": 28,
      "metadata": {
        "ExecuteTime": {
          "end_time": "2019-06-26T06:09:49.410695Z",
          "start_time": "2019-06-26T06:09:49.111678Z"
        },
        "hidden": true,
        "pycharm": {}
      },
      "outputs": [
        {
          "data": {
            "image/png": "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\u003d\u003d\n",
            "text/plain": [
              "\u003cFigure size 432x288 with 1 Axes\u003e"
            ]
          },
          "metadata": {
            "needs_background": "light"
          },
          "output_type": "display_data"
        }
      ],
      "source": [
        "plt.plot([1, 2, 3, 4])\n",
        "plt.xlabel(\u0027test X label\u0027)\n",
        "plt.ylabel(\u0027test Y label\u0027)\n",
        "plt.show()"
      ]
    },
    {
      "cell_type": "markdown",
      "metadata": {
        "heading_collapsed": true,
        "pycharm": {}
      },
      "source": [
        "## Func:plot\n",
        "\n",
        "`plot(x, y)`"
      ]
    },
    {
      "cell_type": "code",
      "execution_count": 31,
      "metadata": {
        "ExecuteTime": {
          "end_time": "2019-06-26T06:11:48.418502Z",
          "start_time": "2019-06-26T06:11:48.127485Z"
        },
        "hidden": true,
        "pycharm": {}
      },
      "outputs": [
        {
          "data": {
            "image/png": "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\u003d\u003d\n",
            "text/plain": [
              "\u003cFigure size 432x288 with 1 Axes\u003e"
            ]
          },
          "metadata": {
            "needs_background": "light"
          },
          "output_type": "display_data"
        }
      ],
      "source": [
        "plt.plot([1, 2, 3, 4], [1, 4, 9, 16])\n",
        "plt.show()"
      ]
    },
    {
      "cell_type": "markdown",
      "metadata": {
        "heading_collapsed": true,
        "pycharm": {}
      },
      "source": [
        "## Color / Type\n",
        "\n",
        "Color：\n",
        "\n",
        "字符 | 颜色\n",
        "-- | -- \n",
        "`‘b’`|\tblue\n",
        "`‘g’`|\tgreen\n",
        "`‘r’`|\tred\n",
        "`‘c’`|\tcyan\n",
        "`‘m’`|\tmagenta\n",
        "`‘y’`|\tyellow\n",
        "`‘k’`|\tblack\n",
        "`‘w’`|\twhite\n",
        "\n",
        "Type：\n",
        "\n",
        "字符|类型 | 字符|类型\n",
        "---|--- | --- | ---\n",
        "`  \u0027-\u0027\t`| 实线 | `\u0027--\u0027`|\t虚线\n",
        "`\u0027-.\u0027`|\t虚点线 | `\u0027:\u0027`|\t点线\n",
        "`\u0027.\u0027`|\t点 | `\u0027,\u0027`| 像素点\n",
        "`\u0027o\u0027`\t|圆点 | `\u0027v\u0027`|\t下三角点\n",
        "`\u0027^\u0027`|\t上三角点 | `\u0027\u003c\u0027`|\t左三角点\n",
        "`\u0027\u003e\u0027`|\t右三角点 | `\u00271\u0027`|\t下三叉点\n",
        "`\u00272\u0027`|\t上三叉点 | `\u00273\u0027`|\t左三叉点\n",
        "`\u00274\u0027`|\t右三叉点 | `\u0027s\u0027`|\t正方点\n",
        "`\u0027p\u0027`\t| 五角点 | `\u0027*\u0027`|\t星形点\n",
        "`\u0027h\u0027`|\t六边形点1 | `\u0027H\u0027`|\t六边形点2 \n",
        "`\u0027+\u0027`|\t加号点 | `\u0027x\u0027`|\t乘号点\n",
        "`\u0027D\u0027`|\t实心菱形点 | `\u0027d\u0027`|\t瘦菱形点 \n",
        "`\u0027_\u0027`|\t横线点 |"
      ]
    },
    {
      "cell_type": "code",
      "execution_count": 32,
      "metadata": {
        "ExecuteTime": {
          "end_time": "2019-06-26T06:14:17.330019Z",
          "start_time": "2019-06-26T06:14:17.035002Z"
        },
        "hidden": true,
        "pycharm": {}
      },
      "outputs": [
        {
          "data": {
            "image/png": "[encoded data removed]",
            "text/plain": [
              "\u003cFigure size 432x288 with 1 Axes\u003e"
            ]
          },
          "metadata": {
            "needs_background": "light"
          },
          "output_type": "display_data"
        }
      ],
      "source": [
        "plt.plot([1, 2, 3, 4], [1, 4, 9, 16], \u0027ro\u0027)\n",
        "plt.show()"
      ]
    },
    {
      "cell_type": "markdown",
      "metadata": {
        "heading_collapsed": true,
        "pycharm": {}
      },
      "source": [
        "## Axis\n",
        "\n",
        "\n",
        "`axis([xmin, xmax, ymin, ymax])`"
      ]
    },
    {
      "cell_type": "code",
      "execution_count": 33,
      "metadata": {
        "ExecuteTime": {
          "end_time": "2019-06-26T06:15:36.895570Z",
          "start_time": "2019-06-26T06:15:36.600553Z"
        },
        "hidden": true,
        "pycharm": {}
      },
      "outputs": [
        {
          "data": {
            "image/png": "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\u003d\u003d\n",
            "text/plain": [
              "\u003cFigure size 432x288 with 1 Axes\u003e"
            ]
          },
          "metadata": {
            "needs_background": "light"
          },
          "output_type": "display_data"
        }
      ],
      "source": [
        "plt.plot([1, 2, 3, 4], [1, 4, 9, 16], \u0027ro\u0027)\n",
        "plt.axis([0, 6, 0, 20])\n",
        "plt.show()"
      ]
    },
    {
      "cell_type": "markdown",
      "metadata": {
        "heading_collapsed": true,
        "pycharm": {}
      },
      "source": [
        "## Multiple datas"
      ]
    },
    {
      "cell_type": "code",
      "execution_count": 34,
      "metadata": {
        "ExecuteTime": {
          "end_time": "2019-06-26T06:16:53.100929Z",
          "start_time": "2019-06-26T06:16:52.778910Z"
        },
        "hidden": true,
        "pycharm": {}
      },
      "outputs": [
        {
          "data": {
            "image/png": "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\u003d\n",
            "text/plain": [
              "\u003cFigure size 432x288 with 1 Axes\u003e"
            ]
          },
          "metadata": {
            "needs_background": "light"
          },
          "output_type": "display_data"
        }
      ],
      "source": [
        "plt.plot([1, 2, 3, 4], [1, 4, 9, 16], \u0027ro\u0027, [1, 2, 3, 4], [5, 6, 7, 8], \u0027b--\u0027)\n",
        "plt.axis([0, 6, 0, 20])\n",
        "plt.show()"
      ]
    },
    {
      "cell_type": "markdown",
      "metadata": {
        "heading_collapsed": true,
        "pycharm": {}
      },
      "source": [
        "## Numpy"
      ]
    },
    {
      "cell_type": "code",
      "execution_count": 5,
      "metadata": {
        "ExecuteTime": {
          "end_time": "2019-07-01T07:44:17.224424Z",
          "start_time": "2019-07-01T07:44:16.711472Z"
        },
        "hidden": true,
        "pycharm": {}
      },
      "outputs": [
        {
          "data": {
            "image/png": "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\u003d\n",
            "text/plain": [
              "\u003cFigure size 432x288 with 1 Axes\u003e"
            ]
          },
          "metadata": {
            "needs_background": "light"
          },
          "output_type": "display_data"
        }
      ],
      "source": [
        "import numpy as np\n",
        "\n",
        "a \u003d np.arange(0, 5, 0.2)\n",
        "# a\n",
        "\n",
        "plt.plot(a, a, \u0027r_\u0027, a, a**2, \u0027gs\u0027, a, a**3, \u0027b^\u0027)\n",
        "plt.show()"
      ]
    },
    {
      "cell_type": "markdown",
      "metadata": {
        "heading_collapsed": true,
        "pycharm": {}
      },
      "source": [
        "## Property parameters"
      ]
    },
    {
      "cell_type": "code",
      "execution_count": 64,
      "metadata": {
        "ExecuteTime": {
          "end_time": "2019-06-26T07:07:58.266246Z",
          "start_time": "2019-06-26T07:07:57.974229Z"
        },
        "hidden": true,
        "pycharm": {}
      },
      "outputs": [
        {
          "data": {
            "image/png": "iVBORw0KGgoAAAANSUhEUgAAAXoAAAD4CAYAAADiry33AAAABHNCSVQICAgIfAhkiAAAAAlwSFlzAAALEgAACxIB0t1+/AAAADh0RVh0U29mdHdhcmUAbWF0cGxvdGxpYiB2ZXJzaW9uMy4xLjAsIGh0dHA6Ly9tYXRwbG90bGliLm9yZy+17YcXAAARj0lEQVR4nO3db6xkdX3H8ffH3RWoIFC5oZQF1yqtICrgdUNLSiwQxP4BazHdmioQDGlLLUZNW32gAZ/gE2tbbZAWU7RYIQjNSqB2K1BClF3uwi64LLYroGyWhIsISEowu3z7YA7t7Tj3zrm7d/fu/eX9SiZ7Zn7fOfP9cdjPnD1zZk6qCklSu16x2A1IkvYug16SGmfQS1LjDHpJapxBL0mNW77YDYxyxBFH1KpVqxa7DUlaMjZu3PhUVU2MGtsvg37VqlVMTU0tdhuStGQk+cFsYx66kaTGGfSS1DiDXpIaZ9BLUuMMeklq3NigT3Jgkg1JNifZkuTyETWnJ7kvyc4k5w+N7UqyqbutXcjmJUnj9Tm98kXgjKp6PskK4O4kt1XVPTNqfghcCHxsxPNfqKqT9rxVSdLuGBv0Nfgd4+e7uyu6Ww3VPAaQ5KUF7k+StId6HaNPsizJJuBJYF1VrZ/HaxyYZCrJPUnePcdrXNLVTU1PT89j9ZKkufQK+qra1R1+WQmsTnLiPF7j2KqaBN4HfC7J62d5jaurarKqJicmRn6LV5K0G+Z11k1VPQPcCZwzj+fs6P58pHvuyfN5TUnSnulz1s1EksO65YOAs4CH+6w8yeFJDuiWjwBOAx7a/XYlSfPVZ4/+KOCOJA8A9zI4Rn9LkiuSnAuQ5O1JtgPvBb6YZEv33OOBqSSbgTuAK6vKoJekfajPWTcPMOJwS1V9csbyvQyO3w/XfBt48x72KEnaA34zVpIaZ9BLUuMMeklqnEEvSY0z6CWpcQa9JDXOoJekxhn0ktQ4g16SGmfQS1LjDHpJapxBL0mNM+glqXEGvSQ1zqCXpMYZ9JLUOINekhpn0EtS4wx6SWqcQS9JjTPoJalxBr0kNc6gl6TGGfSS1LixQZ/kwCQbkmxOsiXJ5SNqTk9yX5KdSc4fGrsgyX91twsWsnlJ0njLe9S8CJxRVc8nWQHcneS2qrpnRs0PgQuBj818YpKfBz4FTAIFbEyytqp+vCDdS5LGGrtHXwPPd3dXdLcaqnmsqh4AXhp6+juBdVX1dBfu64Bz9rxtSVJfvY7RJ1mWZBPwJIPgXt9z/UcDj8+4v717bNRrXJJkKsnU9PR0z9VLksbpFfRVtauqTgJWAquTnNhz/Rm1ulle4+qqmqyqyYmJiZ6rlySNM6+zbqrqGeBO+h9+2Q4cM+P+SmDHfF5TkrRn+px1M5HksG75IOAs4OGe6/8mcHaSw5McDpzdPSZJ2kf67NEfBdyR5AHgXgbH6G9JckWScwGSvD3JduC9wBeTbAGoqqeBT3fPuxe4ontMkrSPpGrkIfNFNTk5WVNTU4vdhiQtGUk2VtXkqDG/GStJjTPoJalxBr0kNc6gl6TGGfSS1DiDXpIaZ9BLUuMMeklqnEEvSY0z6CWpcQa9JDXOoJekxhn0ktQ4g16SGmfQS1LjDHpJapxBL0mNM+glqXEGvSQ1zqCXpMYZ9JLUOINekhpn0EtS4wx6SWrc2KBPcmCSDUk2J9mS5PIRNQckuT7JtiTrk6zqHl+V5IUkm7rbVQs/BUnSXJb3qHkROKOqnk+yArg7yW1Vdc+MmouBH1fVG5KsAT4D/H439v2qOmlh25Yk9TV2j74Gnu/uruhuNVR2HnBtt3wjcGaSLFiXkqTd1usYfZJlSTYBTwLrqmr9UMnRwOMAVbUTeBZ4TTf2uiT3J/mPJL8+x2tckmQqydT09PS8JyJJGq1X0FfVru7wy0pgdZITh0pG7b0X8ARwbFWdDHwE+GqSV8/yGldX1WRVTU5MTPSfgSRpTvM666aqngHuBM4ZGtoOHAOQZDlwKPB0Vb1YVT/qnrsR+D7wy3vYsyRpHvqcdTOR5LBu+SDgLODhobK1wAXd8vnA7VVV3XOXdc/9JeA44JGFal6SNF6fs26OAq7tAvsVwA1VdUuSK4CpqloLXAN8Jck24GlgTffc04ErkuwEdgF/VFVPL/gsJEmzStXwCTSLb3Jysqampha7DUlaMpJsrKrJUWN+M1aSGmfQS1LjDHpJapxBL0mNM+glqXEGvSQ1zqCXpMYZ9JLUOINekhpn0EtS4wx6SWqcQS9Jjevz65X73MaN4IUIJWlhuEcvSY0z6CWpcQa9JDXOoJekxhn0ktQ4g16SGmfQS1LjDHpJapxBL0mNM+glqXEGvSQ1bmzQJzkwyYYkm5NsSXL5iJoDklyfZFuS9UlWzRj7ePf495K8c2HblySN02eP/kXgjKp6K3AScE6SU4dqLgZ+XFVvAP4K+AxAkhOANcCbgHOAv0uybKGalySNNzboa+D57u6K7lZDZecB13bLNwJnJkn3+Neq6sWqehTYBqxekM4lSb30OkafZFmSTcCTwLqqWj9UcjTwOEBV7QSeBV4z8/HO9u6xUa9xSZKpJFPzm4IkaS69gr6qdlXVScBKYHWSE4dKRv16fM3x+KjXuLqqJqtqsk9PkqR+5nXWTVU9A9zJ4Hj7TNuBYwCSLAcOBZ6e+XhnJbBjN3uVJO2GPmfdTCQ5rFs+CDgLeHiobC1wQbd8PnB7VVX3+JrurJzXAccBGxaqeUnSeH0uJXgUcG13tswrgBuq6pYkVwBTVbUWuAb4SpJtDPbk1wBU1ZYkNwAPATuBS6tq196YiCRptAx2vPcvyWSBn8lKUn/ZONtnnH4zVpIaZ9BLUuMMeklqnEEvSY0z6CWpcQa9JDXOoJekxhn0ktQ4g16SGtfnJxD2ube9Dab8Yqwk9ZZRvxXccY9ekhpn0EtS4wx6SWqcQS9JjTPoJalxBr0kNc6gl6TGGfSS1DiDXpIaZ9BLUuMMeklqnEEvSY0z6CWpcQa9JDVubNAnOSbJHUm2JtmS5LIRNYcnuTnJA0k2JDlxxthjSR5MsimJPz4sSftYn9+j3wl8tKruS3IIsDHJuqp6aEbNJ4BNVfW7Sd4IfAE4c8b4b1TVUwvXtiSpr7F79FX1RFXd1y3/BNgKHD1UdgLwra7mYWBVkiMXuFdJ0m6Y1zH6JKuAk4H1Q0Obgfd0NauB1wIru7EC/i3JxiSXzLHuS5JMJZmanp6eT1uSpDn0DvokBwNfBz5cVc8NDV8JHJ5kE/Ah4H4Gh3wATquqU4B3AZcmOX3U+qvq6qqarKrJiYmJ+c5DkjSLXteMTbKCQchfV1U3DY93wX9RVxvg0e5GVe3o/nwyyc3AauCuBelekjRWn7NuAlwDbK2qz85Sc1iSV3Z3PwjcVVXPJXlV9wEuSV4FnA18d2FalyT10WeP/jTg/cCD3aEZGJxlcyxAVV0FHA98Ocku4CHg4q7uSODmwXsFy4GvVtW/Llz7kqRxxgZ9Vd0NZEzNd4DjRjz+CPDW3e5OkrTH/GasJDXOoJekxhn0ktQ4g16SGmfQS1LjDHpJapxBL0mNM+glqXEGvSQ1zqCXpMYZ9JLUOINekhpn0EtS4wx6SWqcQS9JjTPoJalxBr0kNc6gl6TGGfSS1DiDXpIaZ9BLUuMMeklqnEEvSY0z6CWpcWODPskxSe5IsjXJliSXjag5PMnNSR5IsiHJiTPGzknyvSTbkvzlQk9AkjS3Pnv0O4GPVtXxwKnApUlOGKr5BLCpqt4CfAD4a4Aky4AvAO8CTgD+YMRzJUl70digr6onquq+bvknwFbg6KGyE4BvdTUPA6uSHAmsBrZV1SNV9VPga8B5C9i/JGmMeR2jT7IKOBlYPzS0GXhPV7MaeC2wksEbwuMz6rbzs28SL6/7kiRTSaamp6fn05YkaQ69gz7JwcDXgQ9X1XNDw1cChyfZBHwIuJ/BIZ+MWFWNWn9VXV1Vk1U1OTEx0bctSdIYy/sUJVnBIOSvq6qbhse74L+oqw3waHf7OeCYGaUrgR172LMkaR76nHUT4Bpga1V9dpaaw5K8srv7QeCuLvzvBY5L8rpufA2wdmFalyT10WeP/jTg/cCD3aEZGJxlcyxAVV0FHA98Ocku4CHg4m5sZ5I/Bb4JLAO+VFVbFnYKkqS5jA36qrqb0cfaZ9Z8BzhulrFbgVt3qztJ0h7zm7GS1DiDXpIaZ9BLUuMMeklqnEEvSY0z6CWpcQa9JDXOoJekxhn0ktQ4g16SGmfQS1LjDHpJapxBL0mNM+glqXEGvSQ1zqCXpMYZ9JLUOINekhpn0EtS4wx6SWqcQS9JjTPoJalxBr0kNc6gl6TGjQ36JMckuSPJ1iRbklw2oubQJN9IsrmruWjG2K4km7rb2oWegCRpbst71OwEPlpV9yU5BNiYZF1VPTSj5lLgoar6nSQTwPeSXFdVPwVeqKqT9kLvkqQexu7RV9UTVXVft/wTYCtw9HAZcEiSAAcDTzN4g5AkLbJ5HaNPsgo4GVg/NPR54HhgB/AgcFlVvdSNHZhkKsk9Sd49x7ov6eqmpqen59OWJGkOvYM+ycHA14EPV9VzQ8PvBDYBvwicBHw+yau7sWOrahJ4H/C5JK8ftf6qurqqJqtqcmJiYr7zkCTNolfQJ1nBIOSvq6qbRpRcBNxUA9uAR4E3AlTVju7PR4A7GfyLQJK0j/Q56ybANcDWqvrsLGU/BM7s6o8EfgV4JMnhSQ7oHj8COA14aJZ1SJL2gj5n3ZwGvB94MMmm7rFPAMcCVNVVwKeBf0zyIBDgL6rqqSS/BnwxyUsM3lSuHDpbR5K0l40N+qq6m0F4z1WzAzh7xOPfBt68291JkvaY34yVpMYZ9JLUOINekhpn0EtS41JVi93Dz0gyDfxgN59+BPDUArazmFqZSyvzAOeyP2plHrBnc3ltVY38tul+GfR7IslU903cJa+VubQyD3Au+6NW5gF7by4eupGkxhn0ktS4FoP+6sVuYAG1MpdW5gHOZX/UyjxgL82luWP0kqT/r8U9eknSDAa9JDVuSQZ9ki8leTLJd2cZT5K/SbItyQNJTtnXPfbVYy7vSPLsjAusf3Jf99hHz4vIL4nt0nMuS2W7HJhkQ5LN3VwuH1FzQJLru+2yvruS3H6l5zwuTDI9Y5t8cDF67SvJsiT3J7llxNjCbpOqWnI34HTgFOC7s4z/JnAbg1/dPBVYv9g978Fc3gHcsth99pjHUcAp3fIhwH8CJyzF7dJzLktluwQ4uFteweAyoKcO1fwJcFW3vAa4frH73s15XAh8frF7ncecPgJ8ddT/Rwu9TZbkHn1V3cXgAuSzOQ/4cg3cAxyW5Kh909389JjLklD9LiK/JLZLz7ksCd1/6+e7uyu62/AZGOcB13bLNwJndhcc2m/0nMeSkWQl8FvAP8xSsqDbZEkGfQ9HA4/PuL+dJfoXtfOr3T9Zb0vypsVuZpw5LiK/5LbLHHOBJbJdukMEm4AngXVVNet2qaqdwLPAa/Ztl+P1mAfA73WHBW9Mcsw+bnE+Pgf8OfDSLOMLuk1aDfpR73xL9d3/Pga/YfFW4G+Bf1nkfuY05iLyS2q7jJnLktkuVbWrqk4CVgKrk5w4VLIktkuPeXwDWFVVbwH+nf/bI96vJPlt4Mmq2jhX2YjHdnubtBr024GZ7+YrgR2L1MseqarnXv4na1XdCqzorr+73+lxEfkls13GzWUpbZeXVdUzwJ3AOUND/7tdkiwHDmU/Ppw42zyq6kdV9WJ39++Bt+3j1vo6DTg3yWPA14AzkvzTUM2CbpNWg34t8IHuLI9TgWer6onFbmp3JPmFl4/NJVnNYJv9aHG7+lldj+MuIr8ktkufuSyh7TKR5LBu+SDgLODhobK1wAXd8vnA7dV9Cri/6DOPoc97zmXw2cp+p6o+XlUrq2oVgw9ab6+qPxwqW9Bt0ufi4PudJP/M4KyHI5JsBz7F4MMZanCx8lsZnOGxDfhv4KLF6XS8HnM5H/jjJDuBF4A1+9tfwk6fi8gvle3SZy5LZbscBVybZBmDN6MbquqWJFcAU1W1lsGb2leSbGOw17hm8dqdVZ95/FmSc4GdDOZx4aJ1uxv25jbxJxAkqXGtHrqRJHUMeklqnEEvSY0z6CWpcQa9JDXOoJekxhn0ktS4/wFbwmvrxst9iQAAAABJRU5ErkJggg\u003d\u003d\n",
            "text/plain": [
              "\u003cFigure size 432x288 with 1 Axes\u003e"
            ]
          },
          "metadata": {
            "needs_background": "light"
          },
          "output_type": "display_data"
        }
      ],
      "source": [
        "plt.plot([1, 2, 3, 4], [3, 3, 3, 3], linewidth\u003d30, color\u003d\u0027b\u0027)\n",
        "plt.show()"
      ]
    },
    {
      "cell_type": "markdown",
      "metadata": {
        "ExecuteTime": {
          "end_time": "2019-06-26T06:38:29.800096Z",
          "start_time": "2019-06-26T06:38:28.528023Z"
        },
        "heading_collapsed": true,
        "pycharm": {}
      },
      "source": [
        "## Return value\n",
        "\n",
        "\n",
        "`line1, line2 \u003d plt.plot(x1, y1, x2, y2)`\n",
        "\n",
        "`lines \u003d plt.plot(x1, y1, x2, y2, x3, y3)`\n"
      ]
    },
    {
      "cell_type": "code",
      "execution_count": 13,
      "metadata": {
        "ExecuteTime": {
          "end_time": "2019-07-01T07:47:04.942340Z",
          "start_time": "2019-07-01T07:47:04.686027Z"
        },
        "hidden": true,
        "pycharm": {}
      },
      "outputs": [
        {
          "data": {
            "image/png": "[encoded data removed]",
            "text/plain": [
              "\u003cFigure size 432x288 with 1 Axes\u003e"
            ]
          },
          "metadata": {
            "needs_background": "light"
          },
          "output_type": "display_data"
        }
      ],
      "source": [
        "x \u003d np.linspace(-np.pi, np.pi)\n",
        "y \u003d np.sin(x)\n",
        "\n",
        "line, \u003d plt.plot(x, y, \u0027r-\u0027)  # ,\n",
        "line.set_antialiased(False)  # 反锯齿\n",
        "plt.show()"
      ]
    },
    {
      "cell_type": "markdown",
      "metadata": {
        "heading_collapsed": true,
        "pycharm": {}
      },
      "source": [
        "## setp\n",
        "\n",
        "- [Line2D properties](https://matplotlib.org/api/_as_gen/matplotlib.lines.Line2D.html#matplotlib.lines.Line2D)"
      ]
    },
    {
      "cell_type": "code",
      "execution_count": 15,
      "metadata": {
        "ExecuteTime": {
          "end_time": "2019-07-01T07:48:43.237973Z",
          "start_time": "2019-07-01T07:48:42.981682Z"
        },
        "hidden": true,
        "pycharm": {}
      },
      "outputs": [
        {
          "data": {
            "image/png": "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\u003d\u003d\n",
            "text/plain": [
              "\u003cFigure size 432x288 with 1 Axes\u003e"
            ]
          },
          "metadata": {
            "needs_background": "light"
          },
          "output_type": "display_data"
        }
      ],
      "source": [
        "lines \u003d plt.plot(x, y)\n",
        "\n",
        "plt.setp(lines, color\u003d\u0027m\u0027, lw\u003d10)  # linewidth \u003d lw\n",
        "\n",
        "plt.show()"
      ]
    },
    {
      "cell_type": "code",
      "execution_count": 16,
      "metadata": {
        "ExecuteTime": {
          "end_time": "2019-07-01T07:49:18.927506Z",
          "start_time": "2019-07-01T07:49:18.910529Z"
        },
        "hidden": true,
        "pycharm": {}
      },
      "outputs": [
        {
          "name": "stdout",
          "output_type": "stream",
          "text": [
            "  agg_filter: a filter function, which takes a (m, n, 3) float array and a dpi value, and returns a (m, n, 3) array\n",
            "  alpha: float\n",
            "  animated: bool\n",
            "  antialiased or aa: bool\n",
            "  clip_box: `.Bbox`\n",
            "  clip_on: bool\n",
            "  clip_path: [(`~matplotlib.path.Path`, `.Transform`) | `.Patch` | None]\n",
            "  color or c: color\n",
            "  contains: callable\n",
            "  dash_capstyle: {\u0027butt\u0027, \u0027round\u0027, \u0027projecting\u0027}\n",
            "  dash_joinstyle: {\u0027miter\u0027, \u0027round\u0027, \u0027bevel\u0027}\n",
            "  dashes: sequence of floats (on/off ink in points) or (None, None)\n",
            "  drawstyle or ds: {\u0027default\u0027, \u0027steps\u0027, \u0027steps-pre\u0027, \u0027steps-mid\u0027, \u0027steps-post\u0027}, default: \u0027default\u0027\n",
            "  figure: `.Figure`\n",
            "  fillstyle: {\u0027full\u0027, \u0027left\u0027, \u0027right\u0027, \u0027bottom\u0027, \u0027top\u0027, \u0027none\u0027}\n",
            "  gid: str\n",
            "  in_layout: bool\n",
            "  label: object\n",
            "  linestyle or ls: {\u0027-\u0027, \u0027--\u0027, \u0027-.\u0027, \u0027:\u0027, \u0027\u0027, (offset, on-off-seq), ...}\n",
            "  linewidth or lw: float\n",
            "  marker: marker style\n",
            "  markeredgecolor or mec: color\n",
            "  markeredgewidth or mew: float\n",
            "  markerfacecolor or mfc: color\n",
            "  markerfacecoloralt or mfcalt: color\n",
            "  markersize or ms: float\n",
            "  markevery: None or int or (int, int) or slice or List[int] or float or (float, float)\n",
            "  path_effects: `.AbstractPathEffect`\n",
            "  picker: float or callable[[Artist, Event], Tuple[bool, dict]]\n",
            "  pickradius: float\n",
            "  rasterized: bool or None\n",
            "  sketch_params: (scale: float, length: float, randomness: float)\n",
            "  snap: bool or None\n",
            "  solid_capstyle: {\u0027butt\u0027, \u0027round\u0027, \u0027projecting\u0027}\n",
            "  solid_joinstyle: {\u0027miter\u0027, \u0027round\u0027, \u0027bevel\u0027}\n",
            "  transform: `matplotlib.transforms.Transform`\n",
            "  url: str\n",
            "  visible: bool\n",
            "  xdata: 1D array\n",
            "  ydata: 1D array\n",
            "  zorder: float\n"
          ]
        }
      ],
      "source": [
        "plt.setp(lines)"
      ]
    },
    {
      "cell_type": "markdown",
      "metadata": {
        "heading_collapsed": true,
        "pycharm": {}
      },
      "source": [
        "## figure / subplot\n",
        "\n",
        "- 子图\n",
        "\n",
        "`plt.figure(num)`\n",
        "\n",
        "`plt.subplot(numrows, numcols, figurenum)`"
      ]
    },
    {
      "cell_type": "code",
      "execution_count": 25,
      "metadata": {
        "ExecuteTime": {
          "end_time": "2019-07-01T08:02:06.464165Z",
          "start_time": "2019-07-01T08:02:06.052234Z"
        },
        "hidden": true,
        "pycharm": {}
      },
      "outputs": [
        {
          "data": {
            "image/png": "[encoded data removed]",
            "text/plain": [
              "\u003cFigure size 432x288 with 2 Axes\u003e"
            ]
          },
          "metadata": {
            "needs_background": "light"
          },
          "output_type": "display_data"
        }
      ],
      "source": [
        "plt.figure(1)\n",
        "plt.subplot(2, 1, 2)  # plt.subplot(211)\n",
        "plt.plot([1, 2, 3, 4], [5, 6, 7, 8], \u0027bo\u0027, [1, 2, 3, 4], [8, 7, 6, 5], \u0027k\u0027)\n",
        "\n",
        "\n",
        "plt.subplot(2, 1, 1)\n",
        "plt.plot(x, y, \u0027r--\u0027)\n",
        "\n",
        "plt.show()"
      ]
    },
    {
      "cell_type": "markdown",
      "metadata": {
        "heading_collapsed": true,
        "pycharm": {}
      },
      "source": [
        "## Title / Text"
      ]
    },
    {
      "cell_type": "code",
      "execution_count": 43,
      "metadata": {
        "ExecuteTime": {
          "end_time": "2019-07-01T08:20:36.953398Z",
          "start_time": "2019-07-01T08:20:36.686077Z"
        },
        "hidden": true,
        "pycharm": {}
      },
      "outputs": [
        {
          "data": {
            "image/png": "[encoded data removed]",
            "text/plain": [
              "\u003cFigure size 432x288 with 1 Axes\u003e"
            ]
          },
          "metadata": {
            "needs_background": "light"
          },
          "output_type": "display_data"
        }
      ],
      "source": [
        "plt.plot(x, y, lw\u003d10, alpha\u003d.5) # 透明度\n",
        "plt.title(\u0027some title ...\u0027)\n",
        "plt.text(1, -.5, \u0027sin()\u0027)  # 横纵坐标位置加内容\n",
        "plt.show()"
      ]
    },
    {
      "cell_type": "markdown",
      "metadata": {
        "heading_collapsed": true,
        "pycharm": {}
      },
      "source": [
        "## Annotate\n",
        "\n",
        "`annotate(s, xy, xytext, arrowprops)`"
      ]
    },
    {
      "cell_type": "code",
      "execution_count": 50,
      "metadata": {
        "ExecuteTime": {
          "end_time": "2019-07-01T09:09:14.590891Z",
          "start_time": "2019-07-01T09:09:14.259882Z"
        },
        "hidden": true,
        "pycharm": {}
      },
      "outputs": [
        {
          "data": {
            "image/png": "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\u003d\n",
            "text/plain": [
              "\u003cFigure size 432x288 with 1 Axes\u003e"
            ]
          },
          "metadata": {
            "needs_background": "light"
          },
          "output_type": "display_data"
        }
      ],
      "source": [
        "line1, line2 \u003d plt.plot(x, y, [-4, 4], [0, 0])\n",
        "#line1\u003dplt.plot(x,y)\n",
        "#line2\u003dplt.plot([-4,4],[0,0])\n",
        "plt.setp(line1, lw\u003d10, alpha\u003d.5)\n",
        "plt.setp(line2, color\u003d\u0027r\u0027)\n",
        "plt.title(\u0027some title ...\u0027)\n",
        "plt.text(1, -.5, \u0027sin()\u0027)\n",
        "plt.annotate(\u0027zero point\u0027, # 注释文本内容\n",
        "             xy\u003d(0, 0), # 注释坐标点\n",
        "             xytext\u003d(-2, .5), # 注释文本的坐标点\n",
        "             arrowprops\u003ddict(facecolor\u003d\u0027red\u0027))\n",
        "plt.show()"
      ]
    },
    {
      "cell_type": "markdown",
      "metadata": {
        "heading_collapsed": true,
        "pycharm": {
          "metadata": false
        }
      },
      "source": [
        "## Style"
      ]
    },
    {
      "cell_type": "code",
      "execution_count": null,
      "metadata": {
        "hidden": true,
        "pycharm": {
          "metadata": false,
          "name": "#%%\n"
        }
      },
      "outputs": [],
      "source": [
        "plt.style.available"
      ]
    },
    {
      "cell_type": "code",
      "execution_count": 56,
      "metadata": {
        "ExecuteTime": {
          "end_time": "2019-07-01T09:22:55.151911Z",
          "start_time": "2019-07-01T09:22:54.840889Z"
        },
        "hidden": true,
        "pycharm": {
          "metadata": false,
          "name": "#%%\n"
        }
      },
      "outputs": [
        {
          "data": {
            "image/png": "[encoded data removed]",
            "text/plain": [
              "\u003cFigure size 432x288 with 1 Axes\u003e"
            ]
          },
          "metadata": {},
          "output_type": "display_data"
        }
      ],
      "source": [
        "plt.style.use(\u0027dark_background\u0027)  # \u0027bmh\u0027, \u0027dark_background\u0027, \u0027ggplot\u0027, \u0027fivethirtyeight\u0027, \u0027grayscale\u0027\n",
        "plt.plot(x, y)\n",
        "plt.show()"
      ]
    },
    {
      "cell_type": "markdown",
      "metadata": {
        "pycharm": {
          "metadata": false
        }
      },
      "source": [
        "## Image\n",
        "\n",
        "\u003e PNG for default\n",
        "\n",
        "`conda install pillow`"
      ]
    },
    {
      "cell_type": "code",
      "execution_count": 59,
      "metadata": {
        "ExecuteTime": {
          "end_time": "2019-07-01T09:26:31.694300Z",
          "start_time": "2019-07-01T09:26:31.677646Z"
        },
        "pycharm": {
          "metadata": false,
          "name": "#%%\n"
        }
      },
      "outputs": [
        {
          "ename": "ValueError",
          "evalue": "Only know how to handle extensions: [\u0027png\u0027]; with Pillow installed matplotlib can handle more images",
          "output_type": "error",
          "traceback": [
            "\u001b[1;31m---------------------------------------------------------------------------\u001b[0m",
            "\u001b[1;31mModuleNotFoundError\u001b[0m                       Traceback (most recent call last)",
            "\u001b[1;32mD:\\software\\1\\envs\\zproject-0610\\lib\\site-packages\\matplotlib\\image.py\u001b[0m in \u001b[0;36mimread\u001b[1;34m(fname, format)\u001b[0m\n\u001b[0;32m   1404\u001b[0m         \u001b[1;32mtry\u001b[0m\u001b[1;33m:\u001b[0m\u001b[1;33m\u001b[0m\u001b[1;33m\u001b[0m\u001b[0m\n\u001b[1;32m-\u003e 1405\u001b[1;33m             \u001b[1;32mfrom\u001b[0m \u001b[0mPIL\u001b[0m \u001b[1;32mimport\u001b[0m \u001b[0mImage\u001b[0m\u001b[1;33m\u001b[0m\u001b[1;33m\u001b[0m\u001b[0m\n\u001b[0m\u001b[0;32m   1406\u001b[0m         \u001b[1;32mexcept\u001b[0m \u001b[0mImportError\u001b[0m\u001b[1;33m:\u001b[0m\u001b[1;33m\u001b[0m\u001b[1;33m\u001b[0m\u001b[0m\n",
            "\u001b[1;31mModuleNotFoundError\u001b[0m: No module named \u0027PIL\u0027",
            "\nDuring handling of the above exception, another exception occurred:\n",
            "\u001b[1;31mValueError\u001b[0m                                Traceback (most recent call last)",
            "\u001b[1;32m\u003cipython-input-59-d3fea329d976\u003e\u001b[0m in \u001b[0;36m\u003cmodule\u003e\u001b[1;34m\u001b[0m\n\u001b[0;32m      1\u001b[0m \u001b[1;32mimport\u001b[0m \u001b[0mmatplotlib\u001b[0m\u001b[1;33m.\u001b[0m\u001b[0mimage\u001b[0m \u001b[1;32mas\u001b[0m \u001b[0mmpimg\u001b[0m\u001b[1;33m\u001b[0m\u001b[1;33m\u001b[0m\u001b[0m\n\u001b[0;32m      2\u001b[0m \u001b[1;33m\u001b[0m\u001b[0m\n\u001b[1;32m----\u003e 3\u001b[1;33m \u001b[0mimg\u001b[0m \u001b[1;33m\u003d\u001b[0m \u001b[0mmpimg\u001b[0m\u001b[1;33m.\u001b[0m\u001b[0mimread\u001b[0m\u001b[1;33m(\u001b[0m\u001b[1;34m\u0027z.jpg\u0027\u001b[0m\u001b[1;33m)\u001b[0m\u001b[1;33m\u001b[0m\u001b[1;33m\u001b[0m\u001b[0m\n\u001b[0m\u001b[0;32m      4\u001b[0m \u001b[1;31m# img.shape\u001b[0m\u001b[1;33m\u001b[0m\u001b[1;33m\u001b[0m\u001b[1;33m\u001b[0m\u001b[0m\n\u001b[0;32m      5\u001b[0m \u001b[1;33m\u001b[0m\u001b[0m\n",
            "\u001b[1;32mD:\\software\\1\\envs\\zproject-0610\\lib\\site-packages\\matplotlib\\image.py\u001b[0m in \u001b[0;36mimread\u001b[1;34m(fname, format)\u001b[0m\n\u001b[0;32m   1407\u001b[0m             raise ValueError(\u0027Only know how to handle extensions: %s; \u0027\n\u001b[0;32m   1408\u001b[0m                              \u001b[1;34m\u0027with Pillow installed matplotlib can handle \u0027\u001b[0m\u001b[1;33m\u001b[0m\u001b[1;33m\u001b[0m\u001b[0m\n\u001b[1;32m-\u003e 1409\u001b[1;33m                              \u0027more images\u0027 % list(handlers))\n\u001b[0m\u001b[0;32m   1410\u001b[0m         \u001b[1;32mwith\u001b[0m \u001b[0mImage\u001b[0m\u001b[1;33m.\u001b[0m\u001b[0mopen\u001b[0m\u001b[1;33m(\u001b[0m\u001b[0mfname\u001b[0m\u001b[1;33m)\u001b[0m \u001b[1;32mas\u001b[0m \u001b[0mimage\u001b[0m\u001b[1;33m:\u001b[0m\u001b[1;33m\u001b[0m\u001b[1;33m\u001b[0m\u001b[0m\n\u001b[0;32m   1411\u001b[0m             \u001b[1;32mreturn\u001b[0m \u001b[0mpil_to_array\u001b[0m\u001b[1;33m(\u001b[0m\u001b[0mimage\u001b[0m\u001b[1;33m)\u001b[0m\u001b[1;33m\u001b[0m\u001b[1;33m\u001b[0m\u001b[0m\n",
            "\u001b[1;31mValueError\u001b[0m: Only know how to handle extensions: [\u0027png\u0027]; with Pillow installed matplotlib can handle more images"
          ]
        }
      ],
      "source": "import matplotlib.image as mpimg  # 用于读取图片\n# import matplotlib.pyplot as plt # plt 用于显示图片\n\nimg \u003d mpimg.imread(\u0027y.jpg\u0027)  # 读取和代码处于同一目录下的 y.jpg\nimg.shape#(5998, 3634, 3)\n\n# imgplot \u003d plt.imshow(img)\nplt.imshow(img)\nplt.show()"
    },
    {
      "cell_type": "code",
      "execution_count": null,
      "metadata": {
        "pycharm": {
          "metadata": false,
          "name": "#%%\n"
        }
      },
      "outputs": [],
      "source": [
        "# 单通道模拟彩色图像\n",
        "lum_img \u003d img[:, :, 0]\n",
        "imgplot \u003d plt.imshow(lum_img)"
      ]
    },
    {
      "cell_type": "code",
      "execution_count": null,
      "metadata": {
        "pycharm": {
          "metadata": false,
          "name": "#%%\n"
        }
      },
      "outputs": [],
      "source": [
        "imgplot \u003d plt.imshow(lum_img)\n",
        "\n",
        "# cmp \u003d color map\n",
        "imgplot.set_cmap(\u0027hot\u0027)"
      ]
    },
    {
      "cell_type": "code",
      "execution_count": null,
      "metadata": {
        "pycharm": {
          "metadata": false,
          "name": "#%%\n"
        }
      },
      "outputs": [],
      "source": [
        "imgplot \u003d plt.imshow(lum_img)\n",
        "imgplot.set_cmap(\u0027Accent\u0027)"
      ]
    },
    {
      "cell_type": "code",
      "execution_count": null,
      "metadata": {
        "pycharm": {
          "metadata": false,
          "name": "#%%\n"
        }
      },
      "outputs": [],
      "source": "imgplot \u003d plt.imshow(lum_img)\nimgplot.set_cmap(\u0027hot\u0027)\n\n# color bar 色度条\nplt.colorbar()  # 色度条\nplt.show()"
    },
    {
      "cell_type": "markdown",
      "metadata": {
        "pycharm": {
          "metadata": false
        }
      },
      "source": [
        "## plt.hist\n",
        "\n",
        "\u003e 直方图"
      ]
    },
    {
      "cell_type": "code",
      "execution_count": null,
      "metadata": {
        "pycharm": {
          "metadata": false,
          "name": "#%%\n"
        }
      },
      "outputs": [],
      "source": "a \u003d np.random.randn(100)\n\nplt.hist(a, 100, facecolor\u003d\u0027red\u0027, alpha\u003d.5) # 第二个  直方图的柱数，可选项，默认为10\n\nplt.show()"
    },
    {
      "cell_type": "markdown",
      "metadata": {
        "pycharm": {
          "metadata": false
        }
      },
      "source": [
        "## 练习\n",
        "\n",
        "\u003e 绘制一个正态分布的直方图"
      ]
    },
    {
      "cell_type": "markdown",
      "metadata": {
        "pycharm": {
          "metadata": false
        }
      },
      "source": [
        "mu, sigma \u003d 100, 15\n",
        "z \u003d mu + sigma * np.random.randn(10000)\n",
        "\n",
        "plt.hist(z, 100, color\u003d\u0027red\u0027)\n",
        "\n",
        "plt.show()"
      ]
    },
    {
      "cell_type": "markdown",
      "metadata": {
        "pycharm": {
          "metadata": false
        }
      },
      "source": [
        "## Annotating Axex"
      ]
    },
    {
      "cell_type": "code",
      "execution_count": 31,
      "metadata": {
        "ExecuteTime": {
          "end_time": "2019-06-27T03:22:32.540147Z",
          "start_time": "2019-06-27T03:22:32.525860Z"
        },
        "pycharm": {
          "metadata": false,
          "name": "#%%\n"
        }
      },
      "outputs": [
        {
          "ename": "NameError",
          "evalue": "name \u0027x\u0027 is not defined",
          "output_type": "error",
          "traceback": [
            "\u001b[1;31m---------------------------------------------------------------------------\u001b[0m",
            "\u001b[1;31mNameError\u001b[0m                                 Traceback (most recent call last)",
            "\u001b[1;32m\u003cipython-input-31-2e398e2bf0ad\u003e\u001b[0m in \u001b[0;36m\u003cmodule\u003e\u001b[1;34m\u001b[0m\n\u001b[1;32m----\u003e 1\u001b[1;33m \u001b[0mplt\u001b[0m\u001b[1;33m.\u001b[0m\u001b[0mplot\u001b[0m\u001b[1;33m(\u001b[0m\u001b[0mx\u001b[0m\u001b[1;33m,\u001b[0m \u001b[0my\u001b[0m\u001b[1;33m,\u001b[0m \u001b[1;34m\u0027r--\u0027\u001b[0m\u001b[1;33m)\u001b[0m\u001b[1;33m\u001b[0m\u001b[1;33m\u001b[0m\u001b[0m\n\u001b[0m\u001b[0;32m      2\u001b[0m \u001b[0mbbox_props\u001b[0m \u001b[1;33m\u003d\u001b[0m \u001b[0mdict\u001b[0m\u001b[1;33m(\u001b[0m\u001b[0mboxstyle\u001b[0m\u001b[1;33m\u003d\u001b[0m\u001b[1;34m\"larrow\"\u001b[0m\u001b[1;33m,\u001b[0m \u001b[0mfc\u001b[0m\u001b[1;33m\u003d\u001b[0m\u001b[1;34m\u0027w\u0027\u001b[0m\u001b[1;33m)\u001b[0m\u001b[1;33m\u001b[0m\u001b[1;33m\u001b[0m\u001b[0m\n\u001b[0;32m      3\u001b[0m \u001b[0mplt\u001b[0m\u001b[1;33m.\u001b[0m\u001b[0mtext\u001b[0m\u001b[1;33m(\u001b[0m\u001b[1;33m-\u001b[0m\u001b[1;36m2\u001b[0m\u001b[1;33m,\u001b[0m \u001b[1;36m0\u001b[0m\u001b[1;33m,\u001b[0m \u001b[1;34m\"Sin()\"\u001b[0m\u001b[1;33m,\u001b[0m \u001b[0mcolor\u001b[0m\u001b[1;33m\u003d\u001b[0m\u001b[1;34m\u0027black\u0027\u001b[0m\u001b[1;33m,\u001b[0m \u001b[0mbbox\u001b[0m\u001b[1;33m\u003d\u001b[0m\u001b[0mbbox_props\u001b[0m\u001b[1;33m)\u001b[0m\u001b[1;33m\u001b[0m\u001b[1;33m\u001b[0m\u001b[0m\n\u001b[0;32m      4\u001b[0m \u001b[0mplt\u001b[0m\u001b[1;33m.\u001b[0m\u001b[0mshow\u001b[0m\u001b[1;33m(\u001b[0m\u001b[1;33m)\u001b[0m\u001b[1;33m\u001b[0m\u001b[1;33m\u001b[0m\u001b[0m\n",
            "\u001b[1;31mNameError\u001b[0m: name \u0027x\u0027 is not defined"
          ]
        }
      ],
      "source": "plt.plot(x, y, \u0027r--\u0027)\nbbox_props \u003d dict(boxstyle\u003d\"larrow\", fc\u003d\u0027w\u0027) # larrow 左  rarrow 右  round 矩形   fc  背景色 w  白色\nplt.text(-2, 0, \"Sin()\", color\u003d\u0027black\u0027, bbox\u003dbbox_props) # 在（-2，0）出写sin() 颜色为黑色  箭头向左 背景色为白色的\nplt.show()"
    },
    {
      "cell_type": "markdown",
      "metadata": {
        "pycharm": {
          "metadata": false
        }
      },
      "source": [
        "class|name|attrs\n",
        "---|---|---\n",
        "LArrow\t|larrow\t|pad\u003d0.3\n",
        "RArrow\t|rarrow\t|pad\u003d0.3\n",
        "Round\t|round\t|pad\u003d0.3,rounding_size\u003dNone\n",
        "Round4\t|round4\t|pad\u003d0.3,rounding_size\u003dNone\n",
        "Roundtooth\t|roundtooth\t|pad\u003d0.3,tooth_size\u003dNone\n",
        "Sawtooth\t|sawtooth\t|pad\u003d0.3,tooth_size\u003dNone\n",
        "Square\t|square\t|pad\u003d0.3"
      ]
    },
    {
      "cell_type": "markdown",
      "metadata": {
        "pycharm": {
          "metadata": false
        }
      },
      "source": [
        "## Legend\n"
      ]
    },
    {
      "cell_type": "code",
      "execution_count": 29,
      "metadata": {
        "ExecuteTime": {
          "end_time": "2019-06-27T03:22:21.209881Z",
          "start_time": "2019-06-27T03:22:20.699244Z"
        },
        "pycharm": {
          "metadata": false,
          "name": "#%%\n"
        }
      },
      "outputs": [
        {
          "data": {
            "image/png": "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\u003d\u003d\n",
            "text/plain": [
              "\u003cFigure size 432x288 with 1 Axes\u003e"
            ]
          },
          "metadata": {
            "needs_background": "light"
          },
          "output_type": "display_data"
        }
      ],
      "source": "line_up, \u003d plt.plot([0, 1, 2, 3], label\u003d\u0027Line 2\u0027)\nline_down, \u003d plt.plot([3, 2, 1, 0], label\u003d\u0027Line 1\u0027)\nplt.legend(handles\u003d[line_up, line_down])  # 描述线一线二\nplt.show()"
    },
    {
      "cell_type": "code",
      "execution_count": 27,
      "metadata": {
        "ExecuteTime": {
          "end_time": "2019-06-27T03:22:08.138775Z",
          "start_time": "2019-06-27T03:22:07.886451Z"
        },
        "pycharm": {
          "metadata": false,
          "name": "#%%\n"
        }
      },
      "outputs": [
        {
          "data": {
            "image/png": "[encoded data removed]",
            "text/plain": [
              "\u003cFigure size 432x288 with 1 Axes\u003e"
            ]
          },
          "metadata": {
            "needs_background": "light"
          },
          "output_type": "display_data"
        }
      ],
      "source": [
        "import matplotlib.patches as mpatches\n",
        "\n",
        "red_patch \u003d mpatches.Patch(color\u003d\u0027red\u0027, label\u003d\u0027The red data\u0027)\n",
        "plt.legend(handles\u003d[red_patch])\n",
        "\n",
        "plt.show()"
      ]
    },
    {
      "cell_type": "markdown",
      "metadata": {
        "pycharm": {
          "metadata": false
        }
      },
      "source": [
        "## Save"
      ]
    },
    {
      "cell_type": "code",
      "execution_count": 30,
      "metadata": {
        "ExecuteTime": {
          "end_time": "2019-06-27T03:22:25.849513Z",
          "start_time": "2019-06-27T03:22:25.836516Z"
        },
        "pycharm": {
          "metadata": false,
          "name": "#%%\n"
        }
      },
      "outputs": [
        {
          "ename": "NameError",
          "evalue": "name \u0027x\u0027 is not defined",
          "output_type": "error",
          "traceback": [
            "\u001b[1;31m---------------------------------------------------------------------------\u001b[0m",
            "\u001b[1;31mNameError\u001b[0m                                 Traceback (most recent call last)",
            "\u001b[1;32m\u003cipython-input-30-ada2b544556d\u003e\u001b[0m in \u001b[0;36m\u003cmodule\u003e\u001b[1;34m\u001b[0m\n\u001b[1;32m----\u003e 1\u001b[1;33m \u001b[0mplt\u001b[0m\u001b[1;33m.\u001b[0m\u001b[0mplot\u001b[0m\u001b[1;33m(\u001b[0m\u001b[0mx\u001b[0m\u001b[1;33m,\u001b[0m \u001b[0my\u001b[0m\u001b[1;33m,\u001b[0m \u001b[1;34m\u0027r--\u0027\u001b[0m\u001b[1;33m)\u001b[0m\u001b[1;33m\u001b[0m\u001b[1;33m\u001b[0m\u001b[0m\n\u001b[0m\u001b[0;32m      2\u001b[0m \u001b[1;31m# plt.show()\u001b[0m\u001b[1;33m\u001b[0m\u001b[1;33m\u001b[0m\u001b[1;33m\u001b[0m\u001b[0m\n\u001b[0;32m      3\u001b[0m \u001b[0mplt\u001b[0m\u001b[1;33m.\u001b[0m\u001b[0msavefig\u001b[0m\u001b[1;33m(\u001b[0m\u001b[1;34m\u0027temp.png\u0027\u001b[0m\u001b[1;33m)\u001b[0m\u001b[1;33m\u001b[0m\u001b[1;33m\u001b[0m\u001b[0m\n",
            "\u001b[1;31mNameError\u001b[0m: name \u0027x\u0027 is not defined"
          ]
        }
      ],
      "source": "plt.plot(x, y, \u0027r--\u0027)\nplt.savefig(\u0027temp.png\u0027)\nplt.show()"
    },
    {
      "cell_type": "code",
      "execution_count": null,
      "metadata": {
        "pycharm": {
          "metadata": false,
          "name": "#%%\n"
        }
      },
      "outputs": [],
      "source": [
        "plt.plot(x, y, \u0027r--\u0027)\n",
        "# plt.show()\n",
        "fig \u003d plt.gcf()  # \u0027get current figure\u0027\n",
        "fig.savefig(\u0027figure.eps\u0027, format\u003d\u0027eps\u0027, dpi\u003d1000)"
      ]
    },
    {
      "cell_type": "markdown",
      "metadata": {
        "pycharm": {
          "metadata": false
        }
      },
      "source": [
        "## Gallery\n",
        "\n",
        "\u003e [Gallery](https://matplotlib.org/3.1.0/gallery/index.html)"
      ]
    },
    {
      "cell_type": "code",
      "execution_count": null,
      "metadata": {
        "pycharm": {
          "metadata": false,
          "name": "#%%\n"
        }
      },
      "outputs": [],
      "source": [
        "np.random.seed(19680801)\n",
        "\n",
        "fig, ax \u003d plt.subplots()\n",
        "for color in [\u0027tab:blue\u0027, \u0027tab:orange\u0027, \u0027tab:green\u0027]:\n",
        "    n \u003d 750\n",
        "    x, y \u003d np.random.rand(2, n)\n",
        "    scale \u003d 200.0 * np.random.rand(n)\n",
        "    ax.scatter(x,\n",
        "               y,\n",
        "               c\u003dcolor,\n",
        "               s\u003dscale,\n",
        "               label\u003dcolor,\n",
        "               alpha\u003d0.3,\n",
        "               edgecolors\u003d\u0027none\u0027)\n",
        "\n",
        "ax.legend()\n",
        "ax.grid(True)\n",
        "\n",
        "plt.show()"
      ]
    },
    {
      "cell_type": "markdown",
      "metadata": {
        "pycharm": {
          "metadata": false
        }
      },
      "source": [
        "## Seaborn\n",
        "\n",
        "\u003e [seaborn: statistical data visualization](https://seaborn.pydata.org/)\n",
        "\n"
      ]
    }
  ],
  "metadata": {
    "kernelspec": {
      "display_name": "Python 3",
      "language": "python",
      "name": "python3"
    },
    "language_info": {
      "codemirror_mode": {
        "name": "ipython",
        "version": 3
      },
      "file_extension": ".py",
      "mimetype": "text/x-python",
      "name": "python",
      "nbconvert_exporter": "python",
      "pygments_lexer": "ipython3",
      "version": "3.7.3"
    },
    "toc": {
      "base_numbering": 1,
      "nav_menu": {},
      "number_sections": true,
      "sideBar": true,
      "skip_h1_title": false,
      "title_cell": "Table of Contents",
      "title_sidebar": "Contents",
      "toc_cell": false,
      "toc_position": {
        "height": "calc(100% - 180px)",
        "left": "10px",
        "top": "150px",
        "width": "217.482px"
      },
      "toc_section_display": true,
      "toc_window_display": true
    }
  },
  "nbformat": 4,
  "nbformat_minor": 2
}