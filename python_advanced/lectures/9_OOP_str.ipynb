{
 "cells": [
  {
   "cell_type": "markdown",
   "metadata": {
    "collapsed": true,
    "pycharm": {
     "name": "#%% md\n"
    }
   },
   "source": [
    "# Python Adv\n",
    "# OOP_str_\n"
   ]
  },
  {
   "cell_type": "code",
   "execution_count": 3,
   "metadata": {
    "ExecuteTime": {
     "end_time": "2019-06-18T02:16:51.551498Z",
     "start_time": "2019-06-18T02:16:51.530554Z"
    },
    "pycharm": {
     "metadata": false,
     "name": "#%%\n"
    }
   },
   "outputs": [
    {
     "data": {
      "text/plain": [
       "Name: Tom"
      ]
     },
     "execution_count": 3,
     "metadata": {},
     "output_type": "execute_result"
    }
   ],
   "source": [
    "class Human(object):\n",
    "    def __init__(self, name):\n",
    "        self.name = name\n",
    "        \n",
    "    def __str__(self):\n",
    "        return 'Name: %s' % self.name\n",
    "    \n",
    "    __repr__ = __str__\n",
    "\n",
    "tom = Human('Tom')\n",
    "\n",
    "# print(tom)\n",
    "\n",
    "tom\n",
    "\n",
    "\n",
    "\n",
    "# public class Human extends Object { // toString\n",
    "\n",
    "#     private String name;\n",
    "    \n",
    "#     public Human(String name){\n",
    "        \n",
    "#         this.name = name;\n",
    "#     }\n",
    "    \n",
    "#     public String toString() {\n",
    "#         return \"Name: \" + this.name\n",
    "    \n",
    "#     }\n",
    "# }\n",
    " \n",
    "# public static void main(String[] args) {\n",
    "    \n",
    "#     tom = new Human(\"Tom\");\n",
    "\n",
    "#     System.out.println(tom); // packages.Human HEX...  Name: Tom\n",
    "# }\n"
   ]
  },
  {
   "cell_type": "code",
   "execution_count": null,
   "metadata": {},
   "outputs": [],
   "source": []
  }
 ],
 "metadata": {
  "kernelspec": {
   "display_name": "Python 3",
   "language": "python",
   "name": "python3"
  },
  "language_info": {
   "codemirror_mode": {
    "name": "ipython",
    "version": 3
   },
   "file_extension": ".py",
   "mimetype": "text/x-python",
   "name": "python",
   "nbconvert_exporter": "python",
   "pygments_lexer": "ipython3",
   "version": "3.7.3"
  }
 },
 "nbformat": 4,
 "nbformat_minor": 1
}
