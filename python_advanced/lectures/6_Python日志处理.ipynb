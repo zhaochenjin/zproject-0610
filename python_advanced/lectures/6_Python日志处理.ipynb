{
 "cells": [
  {
   "cell_type": "markdown",
   "metadata": {},
   "source": [
    "# Python Logging\n",
    "\n",
    "> `logging` 内置模块"
   ]
  },
  {
   "cell_type": "raw",
   "metadata": {
    "ExecuteTime": {
     "end_time": "2019-06-14T07:24:02.430227Z",
     "start_time": "2019-06-14T07:24:02.426227Z"
    }
   },
   "source": [
    "import logging"
   ]
  },
  {
   "cell_type": "markdown",
   "metadata": {},
   "source": [
    "## 日志输出\n",
    "\n",
    "1. 输出位置：默认输出到控制台\n",
    "2. 输出格式：日志级别:日志实例名称:日志消息内容"
   ]
  },
  {
   "cell_type": "raw",
   "metadata": {
    "ExecuteTime": {
     "end_time": "2019-06-14T07:24:07.764532Z",
     "start_time": "2019-06-14T07:24:07.755531Z"
    }
   },
   "source": [
    "logging.warning('warning...')"
   ]
  },
  {
   "cell_type": "markdown",
   "metadata": {},
   "source": [
    "## 日志级别\n",
    "\n",
    "> DEBUG > INFO > WARNING > ERROR > CRITICAL\n",
    "\n",
    "> 默认为 WARNING"
   ]
  },
  {
   "cell_type": "raw",
   "metadata": {
    "ExecuteTime": {
     "end_time": "2019-06-14T07:24:09.992659Z",
     "start_time": "2019-06-14T07:24:09.988659Z"
    }
   },
   "source": [
    "logging.info('info...')"
   ]
  },
  {
   "cell_type": "markdown",
   "metadata": {},
   "source": [
    "## 基本配置"
   ]
  },
  {
   "cell_type": "raw",
   "metadata": {
    "ExecuteTime": {
     "end_time": "2019-06-14T07:53:14.249852Z",
     "start_time": "2019-06-14T07:53:14.239852Z"
    }
   },
   "source": [
    "import logging\n",
    "\n",
    "logging.basicConfig(level=logging.DEBUG)\n",
    "\n",
    "logging.debug('debug...')\n",
    "logging.info('info...')\n",
    "logging.warning('warning...')\n",
    "logging.error('error...')\n",
    "logging.critical('critical...')"
   ]
  },
  {
   "cell_type": "markdown",
   "metadata": {},
   "source": [
    "## 重要概念\n",
    "\n",
    "1. `Logger` 记录器：暴露了应用程序代码能直接使用的接口\n",
    "2. `Handler` 处理器：将（记录器产生的）日志记录发送到的目的地\n",
    "3. `Filter` 过滤器：提供了更好的粒度控制，决定输出哪些日志记录\n",
    "4. `Formatter` 格式化器：指明了最终输出中日志记录信息的格式布局"
   ]
  },
  {
   "cell_type": "raw",
   "metadata": {
    "ExecuteTime": {
     "end_time": "2019-06-14T07:53:03.915261Z",
     "start_time": "2019-06-14T07:53:03.901260Z"
    }
   },
   "source": [
    "#!/usr/bin/env python\n",
    "# -*- coding: UTF-8 -*-\n",
    "\n",
    "# @Time     : 6/14/2019 16:07\n",
    "# @Author   : mingfei.net@gmail.com\n",
    "# @FileName : logging_test.py\n",
    "# @GitHub   : https://github.com/thu/project-0610\n",
    "\n",
    "import logging\n",
    "\n",
    "# 1. create logger\n",
    "name = 'test'\n",
    "logger = logging.getLogger(name)\n",
    "logger.setLevel(logging.DEBUG)  # ***\n",
    "\n",
    "# 2. create handler\n",
    "filename = 'logging.log'\n",
    "file_handler = logging.FileHandler(filename)\n",
    "file_handler.setLevel(logging.WARNING)\n",
    "\n",
    "stream_handler = logging.StreamHandler()\n",
    "stream_handler.setLevel(logging.DEBUG)\n",
    "\n",
    "# 3. create formatter\n",
    "fmt = \"%(asctime)-15s %(levelname)s %(filename)s %(lineno)d %(process)d %(message)s\"\n",
    "datefmt = \"%a %d %b %Y %H:%M:%S\"\n",
    "formatter = logging.Formatter(fmt, datefmt)\n",
    "\n",
    "# 4. add formatter to handler\n",
    "file_handler.setFormatter(formatter)\n",
    "stream_handler.setFormatter(formatter)\n",
    "\n",
    "# 5. add handler to logger\n",
    "logger.addHandler(file_handler)\n",
    "logger.addHandler(stream_handler)\n",
    "\n",
    "logger.debug('debug...')\n",
    "logger.info('info...')\n",
    "logger.warning('warning...')\n",
    "logger.error('error...')\n",
    "logger.critical('critical...')\n"
   ]
  }
 ],
 "metadata": {
  "kernelspec": {
   "display_name": "Python 3",
   "language": "python",
   "name": "python3"
  },
  "language_info": {
   "codemirror_mode": {
    "name": "ipython",
    "version": 3
   },
   "file_extension": ".py",
   "mimetype": "text/x-python",
   "name": "python",
   "nbconvert_exporter": "python",
   "pygments_lexer": "ipython3",
   "version": "3.7.3"
  },
  "toc": {
   "base_numbering": 1,
   "nav_menu": {},
   "number_sections": true,
   "sideBar": true,
   "skip_h1_title": false,
   "title_cell": "Table of Contents",
   "title_sidebar": "Contents",
   "toc_cell": false,
   "toc_position": {},
   "toc_section_display": true,
   "toc_window_display": false
  }
 },
 "nbformat": 4,
 "nbformat_minor": 2
}
