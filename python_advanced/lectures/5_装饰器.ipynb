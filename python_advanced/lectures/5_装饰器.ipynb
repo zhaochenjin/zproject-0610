{
 "cells": [
  {
   "cell_type": "markdown",
   "metadata": {
    "pycharm": {}
   },
   "source": [
    "# Python Adv.\n",
    "\n",
    "## 装饰器 `Decorator`\n",
    "\n",
    "> 装饰器是一种函数，在代码运行期间，动态修改其他函数的功能\n",
    "\n",
    "> Decorator 的本质：一个返回函数或类对象的高阶函数或类\n",
    "\n",
    "> 类比：AOP `Aspect` 切面/方面\n",
    "\n",
    "> 场景：日志 / 性能 / 事务 / 缓存 / 权限\n"
   ]
  },
  {
   "cell_type": "markdown",
   "metadata": {
    "heading_collapsed": true,
    "pycharm": {}
   },
   "source": [
    "## __name__"
   ]
  },
  {
   "cell_type": "code",
   "execution_count": 1,
   "metadata": {
    "ExecuteTime": {
     "end_time": "2019-06-12T08:48:36.238678Z",
     "start_time": "2019-06-12T08:48:36.227678Z"
    },
    "hidden": true,
    "pycharm": {}
   },
   "outputs": [
    {
     "data": {
      "text/plain": [
       "4"
      ]
     },
     "execution_count": 1,
     "metadata": {},
     "output_type": "execute_result"
    }
   ],
   "source": [
    "def f(x):\n",
    "    return x * x\n",
    "\n",
    "t = f\n",
    "\n",
    "t(2)"
   ]
  },
  {
   "cell_type": "code",
   "execution_count": 2,
   "metadata": {
    "ExecuteTime": {
     "end_time": "2019-06-12T08:48:54.082699Z",
     "start_time": "2019-06-12T08:48:54.076698Z"
    },
    "hidden": true,
    "pycharm": {}
   },
   "outputs": [
    {
     "data": {
      "text/plain": [
       "'f'"
      ]
     },
     "execution_count": 2,
     "metadata": {},
     "output_type": "execute_result"
    }
   ],
   "source": [
    "f.__name__"
   ]
  },
  {
   "cell_type": "code",
   "execution_count": 3,
   "metadata": {
    "ExecuteTime": {
     "end_time": "2019-06-11T02:22:31.035730Z",
     "start_time": "2019-06-11T02:22:31.028729Z"
    },
    "hidden": true,
    "pycharm": {}
   },
   "outputs": [
    {
     "data": {
      "text/plain": [
       "'f'"
      ]
     },
     "execution_count": 3,
     "metadata": {},
     "output_type": "execute_result"
    }
   ],
   "source": [
    "t.__name__"
   ]
  },
  {
   "cell_type": "markdown",
   "metadata": {
    "heading_collapsed": true,
    "pycharm": {}
   },
   "source": [
    "## Every thing in Python is object"
   ]
  },
  {
   "cell_type": "code",
   "execution_count": 11,
   "metadata": {
    "ExecuteTime": {
     "end_time": "2019-06-12T09:04:36.457600Z",
     "start_time": "2019-06-12T09:04:36.449599Z"
    },
    "hidden": true,
    "pycharm": {}
   },
   "outputs": [
    {
     "name": "stdout",
     "output_type": "stream",
     "text": [
      "hi Python\n"
     ]
    }
   ],
   "source": [
    "def hi(name='Python'):\n",
    "    print('hi', name)\n",
    "\n",
    "hi()"
   ]
  },
  {
   "cell_type": "code",
   "execution_count": 13,
   "metadata": {
    "ExecuteTime": {
     "end_time": "2019-06-12T09:05:11.304593Z",
     "start_time": "2019-06-12T09:05:11.299592Z"
    },
    "hidden": true,
    "pycharm": {}
   },
   "outputs": [
    {
     "name": "stdout",
     "output_type": "stream",
     "text": [
      "hi Python\n"
     ]
    }
   ],
   "source": [
    "hello = hi\n",
    "hello()"
   ]
  },
  {
   "cell_type": "code",
   "execution_count": 14,
   "metadata": {
    "ExecuteTime": {
     "end_time": "2019-06-12T09:05:34.820938Z",
     "start_time": "2019-06-12T09:05:34.755934Z"
    },
    "hidden": true,
    "pycharm": {}
   },
   "outputs": [
    {
     "ename": "NameError",
     "evalue": "name 'hi' is not defined",
     "output_type": "error",
     "traceback": [
      "\u001b[1;31m---------------------------------------------------------------------------\u001b[0m",
      "\u001b[1;31mNameError\u001b[0m                                 Traceback (most recent call last)",
      "\u001b[1;32m<ipython-input-14-7f08fdbbfc80>\u001b[0m in \u001b[0;36m<module>\u001b[1;34m\u001b[0m\n\u001b[0;32m      1\u001b[0m \u001b[1;32mdel\u001b[0m \u001b[0mhi\u001b[0m\u001b[1;33m\u001b[0m\u001b[1;33m\u001b[0m\u001b[0m\n\u001b[1;32m----> 2\u001b[1;33m \u001b[0mhi\u001b[0m\u001b[1;33m(\u001b[0m\u001b[1;33m)\u001b[0m\u001b[1;33m\u001b[0m\u001b[1;33m\u001b[0m\u001b[0m\n\u001b[0m",
      "\u001b[1;31mNameError\u001b[0m: name 'hi' is not defined"
     ]
    }
   ],
   "source": [
    "del hi\n",
    "hi()"
   ]
  },
  {
   "cell_type": "code",
   "execution_count": 15,
   "metadata": {
    "ExecuteTime": {
     "end_time": "2019-06-12T09:05:56.301166Z",
     "start_time": "2019-06-12T09:05:56.296166Z"
    },
    "hidden": true,
    "pycharm": {}
   },
   "outputs": [
    {
     "name": "stdout",
     "output_type": "stream",
     "text": [
      "hi Python\n"
     ]
    }
   ],
   "source": [
    "hello()"
   ]
  },
  {
   "cell_type": "markdown",
   "metadata": {
    "heading_collapsed": true,
    "pycharm": {}
   },
   "source": [
    "## Define function in another function"
   ]
  },
  {
   "cell_type": "code",
   "execution_count": 18,
   "metadata": {
    "ExecuteTime": {
     "end_time": "2019-06-12T09:11:06.702920Z",
     "start_time": "2019-06-12T09:11:06.696920Z"
    },
    "hidden": true,
    "pycharm": {}
   },
   "outputs": [
    {
     "name": "stdout",
     "output_type": "stream",
     "text": [
      "--- come in function hi ---\n",
      "function hi_a\n",
      "function hi_b\n",
      "--- back in function hi ---\n"
     ]
    }
   ],
   "source": [
    "def hi(name='Python'):\n",
    "    print('---', 'come in function hi', '---')\n",
    "    \n",
    "    def hi_a():\n",
    "        return 'function hi_a'\n",
    "        \n",
    "    def hi_b():\n",
    "        return 'function hi_b'\n",
    "        \n",
    "    print(hi_a())\n",
    "    print(hi_b())\n",
    "    \n",
    "    print('---', 'back in function hi', '---')\n",
    "    \n",
    "    \n",
    "hi()"
   ]
  },
  {
   "cell_type": "code",
   "execution_count": 19,
   "metadata": {
    "ExecuteTime": {
     "end_time": "2019-06-12T09:13:00.896452Z",
     "start_time": "2019-06-12T09:13:00.888451Z"
    },
    "hidden": true,
    "pycharm": {}
   },
   "outputs": [
    {
     "ename": "NameError",
     "evalue": "name 'hi_a' is not defined",
     "output_type": "error",
     "traceback": [
      "\u001b[1;31m---------------------------------------------------------------------------\u001b[0m",
      "\u001b[1;31mNameError\u001b[0m                                 Traceback (most recent call last)",
      "\u001b[1;32m<ipython-input-19-f4665a1cbbd3>\u001b[0m in \u001b[0;36m<module>\u001b[1;34m\u001b[0m\n\u001b[1;32m----> 1\u001b[1;33m \u001b[0mhi_a\u001b[0m\u001b[1;33m(\u001b[0m\u001b[1;33m)\u001b[0m\u001b[1;33m\u001b[0m\u001b[1;33m\u001b[0m\u001b[0m\n\u001b[0m",
      "\u001b[1;31mNameError\u001b[0m: name 'hi_a' is not defined"
     ]
    }
   ],
   "source": [
    "hi_a()"
   ]
  },
  {
   "cell_type": "markdown",
   "metadata": {
    "heading_collapsed": true,
    "pycharm": {}
   },
   "source": [
    "## Return a function from another function"
   ]
  },
  {
   "cell_type": "code",
   "execution_count": 22,
   "metadata": {
    "ExecuteTime": {
     "end_time": "2019-06-12T09:16:20.895891Z",
     "start_time": "2019-06-12T09:16:20.888891Z"
    },
    "hidden": true,
    "pycharm": {}
   },
   "outputs": [
    {
     "data": {
      "text/plain": [
       "<function __main__.hi.<locals>.hi_a()>"
      ]
     },
     "execution_count": 22,
     "metadata": {},
     "output_type": "execute_result"
    }
   ],
   "source": [
    "def hi(name='Python'):\n",
    "    \n",
    "    def hi_a():\n",
    "        return 'function hi_a'\n",
    "    \n",
    "        \n",
    "    def hi_b():\n",
    "        return 'function hi_b'\n",
    "    \n",
    "    if name == 'Python':\n",
    "        return hi_a\n",
    "    else:\n",
    "        return hi_b\n",
    "    \n",
    "a = hi()\n",
    "a"
   ]
  },
  {
   "cell_type": "code",
   "execution_count": 23,
   "metadata": {
    "ExecuteTime": {
     "end_time": "2019-06-12T09:16:30.375433Z",
     "start_time": "2019-06-12T09:16:30.369433Z"
    },
    "hidden": true,
    "pycharm": {}
   },
   "outputs": [
    {
     "data": {
      "text/plain": [
       "'function hi_a'"
      ]
     },
     "execution_count": 23,
     "metadata": {},
     "output_type": "execute_result"
    }
   ],
   "source": [
    "a()"
   ]
  },
  {
   "cell_type": "code",
   "execution_count": 24,
   "metadata": {
    "ExecuteTime": {
     "end_time": "2019-06-12T09:17:23.313461Z",
     "start_time": "2019-06-12T09:17:23.307461Z"
    },
    "hidden": true,
    "pycharm": {}
   },
   "outputs": [
    {
     "data": {
      "text/plain": [
       "'function hi_a'"
      ]
     },
     "execution_count": 24,
     "metadata": {},
     "output_type": "execute_result"
    }
   ],
   "source": [
    "hi()()"
   ]
  },
  {
   "cell_type": "markdown",
   "metadata": {
    "heading_collapsed": true,
    "pycharm": {}
   },
   "source": [
    "## Pass a function as a parameter"
   ]
  },
  {
   "cell_type": "code",
   "execution_count": 72,
   "metadata": {
    "ExecuteTime": {
     "end_time": "2019-06-14T03:21:11.946395Z",
     "start_time": "2019-06-14T03:21:11.939385Z"
    },
    "hidden": true,
    "pycharm": {}
   },
   "outputs": [
    {
     "name": "stdout",
     "output_type": "stream",
     "text": [
      "do something before a function\n",
      "hi Python\n"
     ]
    }
   ],
   "source": [
    "def hi(name='Python'):\n",
    "    print('hi', name)\n",
    "    \n",
    "def before(func):\n",
    "    print('do something before a function')\n",
    "    func()\n",
    "    \n",
    "before(hi)"
   ]
  },
  {
   "cell_type": "markdown",
   "metadata": {
    "heading_collapsed": true,
    "pycharm": {
     "metadata": false
    }
   },
   "source": [
    "## A decorator"
   ]
  },
  {
   "cell_type": "code",
   "execution_count": 73,
   "metadata": {
    "ExecuteTime": {
     "end_time": "2019-06-14T03:24:10.814328Z",
     "start_time": "2019-06-14T03:24:10.808340Z"
    },
    "hidden": true,
    "pycharm": {
     "metadata": false,
     "name": "#%%\n"
    }
   },
   "outputs": [
    {
     "name": "stdout",
     "output_type": "stream",
     "text": [
      "funcion f...\n"
     ]
    }
   ],
   "source": [
    "def a_decorator(func):\n",
    "    \n",
    "    def wrapper():\n",
    "        print(func.__name__, 'before...')\n",
    "        func()\n",
    "        print(func.__name__, 'after...')\n",
    "        \n",
    "    \n",
    "    return wrapper\n",
    "\n",
    "\n",
    "def f():\n",
    "    print('funcion f...')\n",
    "    \n",
    "    \n",
    "f()"
   ]
  },
  {
   "cell_type": "code",
   "execution_count": 74,
   "metadata": {
    "ExecuteTime": {
     "end_time": "2019-06-14T03:24:31.168005Z",
     "start_time": "2019-06-14T03:24:31.162863Z"
    },
    "hidden": true,
    "pycharm": {
     "metadata": false,
     "name": "#%%\n"
    }
   },
   "outputs": [
    {
     "name": "stdout",
     "output_type": "stream",
     "text": [
      "f before...\n",
      "funcion f...\n",
      "f after...\n"
     ]
    }
   ],
   "source": [
    "f = a_decorator(f)\n",
    "\n",
    "f()"
   ]
  },
  {
   "cell_type": "markdown",
   "metadata": {
    "heading_collapsed": true,
    "pycharm": {
     "metadata": false
    }
   },
   "source": [
    "## Syntactic sugar @"
   ]
  },
  {
   "cell_type": "code",
   "execution_count": 75,
   "metadata": {
    "ExecuteTime": {
     "end_time": "2019-06-14T03:27:48.742411Z",
     "start_time": "2019-06-14T03:27:48.737444Z"
    },
    "hidden": true,
    "pycharm": {
     "metadata": false,
     "name": "#%%\n"
    }
   },
   "outputs": [
    {
     "name": "stdout",
     "output_type": "stream",
     "text": [
      "foo before...\n",
      "function foo...\n",
      "foo after...\n"
     ]
    }
   ],
   "source": [
    "@a_decorator\n",
    "def foo():\n",
    "    print('function foo...')\n",
    "    \n",
    "foo()"
   ]
  },
  {
   "cell_type": "markdown",
   "metadata": {
    "heading_collapsed": true,
    "pycharm": {
     "metadata": false
    }
   },
   "source": [
    "## 复习：函数的参数\n",
    "\n",
    "`*args`\n",
    "`**kwargs`"
   ]
  },
  {
   "cell_type": "markdown",
   "metadata": {
    "heading_collapsed": true,
    "pycharm": {
     "metadata": false
    }
   },
   "source": [
    "## Function with one parameter"
   ]
  },
  {
   "cell_type": "code",
   "execution_count": 76,
   "metadata": {
    "ExecuteTime": {
     "end_time": "2019-06-14T03:31:15.517125Z",
     "start_time": "2019-06-14T03:31:15.509144Z"
    },
    "hidden": true,
    "pycharm": {
     "metadata": false,
     "name": "#%%\n"
    }
   },
   "outputs": [
    {
     "name": "stdout",
     "output_type": "stream",
     "text": [
      "foo before...\n",
      "hi Decorator\n",
      "foo after...\n"
     ]
    }
   ],
   "source": [
    "def a_decorator(func):\n",
    "    \n",
    "    def wrapper(name):\n",
    "        print(func.__name__, 'before...')\n",
    "        func(name)\n",
    "        print(func.__name__, 'after...')\n",
    "        \n",
    "    return wrapper\n",
    "  \n",
    "@a_decorator\n",
    "def foo(name):\n",
    "    print('hi', name)\n",
    "    \n",
    "foo('Decorator')"
   ]
  },
  {
   "cell_type": "markdown",
   "metadata": {
    "heading_collapsed": true,
    "pycharm": {
     "metadata": false
    }
   },
   "source": [
    "## Function with multiple parameters"
   ]
  },
  {
   "cell_type": "code",
   "execution_count": 1,
   "metadata": {
    "ExecuteTime": {
     "end_time": "2019-06-17T01:57:46.265190Z",
     "start_time": "2019-06-17T01:57:46.253195Z"
    },
    "hidden": true,
    "pycharm": {
     "metadata": false,
     "name": "#%%\n"
    }
   },
   "outputs": [
    {
     "name": "stdout",
     "output_type": "stream",
     "text": [
      "foo before...\n",
      "Email: Tom\n",
      "Password: 123\n",
      "foo after...\n"
     ]
    }
   ],
   "source": [
    "def a_decorator(func):\n",
    "    \n",
    "    def wrapper(*args, **kwargs):\n",
    "        print(func.__name__, 'before...')\n",
    "        func(*args, **kwargs)\n",
    "        print(func.__name__, 'after...')\n",
    "        \n",
    "    return wrapper\n",
    "  \n",
    "@a_decorator\n",
    "def foo(email, password):\n",
    "    print('Email:', email)\n",
    "    print('Password:', password)\n",
    "    \n",
    "foo('Tom', '123')"
   ]
  },
  {
   "cell_type": "markdown",
   "metadata": {
    "heading_collapsed": true,
    "pycharm": {
     "metadata": false
    }
   },
   "source": [
    "## Class decorator\n",
    "\n",
    "> using `__call__` method"
   ]
  },
  {
   "cell_type": "code",
   "execution_count": 78,
   "metadata": {
    "ExecuteTime": {
     "end_time": "2019-06-14T03:36:14.495192Z",
     "start_time": "2019-06-14T03:36:14.486637Z"
    },
    "hidden": true,
    "pycharm": {
     "metadata": false,
     "name": "#%%\n"
    }
   },
   "outputs": [
    {
     "name": "stdout",
     "output_type": "stream",
     "text": [
      "foo before...\n",
      "function foo...\n",
      "foo before...\n"
     ]
    }
   ],
   "source": [
    "class FooDecorator(object):\n",
    "    \n",
    "    def __init__(self, func):\n",
    "        self.func = func\n",
    "        \n",
    "    def __call__(self):\n",
    "        print(self.func.__name__, 'before...')\n",
    "        self.func()\n",
    "        print(self.func.__name__, 'before...')\n",
    "        \n",
    "@FooDecorator\n",
    "def foo():\n",
    "    print('function foo...')\n",
    "    \n",
    "foo()"
   ]
  },
  {
   "cell_type": "markdown",
   "metadata": {
    "heading_collapsed": true,
    "pycharm": {
     "metadata": false
    }
   },
   "source": [
    "## Class decorator with parameters"
   ]
  },
  {
   "cell_type": "code",
   "execution_count": 9,
   "metadata": {
    "ExecuteTime": {
     "end_time": "2019-06-14T06:52:00.019003Z",
     "start_time": "2019-06-14T06:52:00.008932Z"
    },
    "code_folding": [],
    "hidden": true,
    "pycharm": {
     "metadata": false,
     "name": "#%%\n"
    }
   },
   "outputs": [
    {
     "name": "stdout",
     "output_type": "stream",
     "text": [
      "foo before...\n",
      "a\n",
      "b\n",
      "c\n",
      "1\n",
      "2\n",
      "3\n",
      "True\n",
      "False\n",
      "None\n",
      "foo after...\n"
     ]
    }
   ],
   "source": [
    "class FooDecorator(object):\n",
    "\n",
    "    def __init__(self, func):\n",
    "        self.func = func\n",
    "\n",
    "    def __call__(self, *args, **kwargs):\n",
    "        print(self.func.__name__, 'before...')\n",
    "        self.func(*args, **kwargs)\n",
    "        print(self.func.__name__, 'after...')\n",
    "\n",
    "\n",
    "@FooDecorator\n",
    "def foo(*args):\n",
    "    for arg in args:\n",
    "        print(arg)\n",
    "\n",
    "\n",
    "foo('a', 'b', 'c', 1, 2, 3, True, False, None)"
   ]
  },
  {
   "cell_type": "markdown",
   "metadata": {
    "pycharm": {
     "metadata": false
    }
   },
   "source": [
    "## 练习\n",
    "\n",
    "- 自学 Python 日志处理\n",
    "- 实现一个日志装饰器类"
   ]
  },
  {
   "cell_type": "code",
   "execution_count": 2,
   "metadata": {
    "ExecuteTime": {
     "end_time": "2019-06-17T02:05:19.091140Z",
     "start_time": "2019-06-17T02:05:19.086553Z"
    },
    "pycharm": {
     "metadata": false,
     "name": "#%%\n"
    }
   },
   "outputs": [],
   "source": [
    "import logging\n",
    "\n",
    "logging.basicConfig()\n",
    "logging.debug('debug')"
   ]
  },
  {
   "cell_type": "code",
   "execution_count": 3,
   "metadata": {
    "ExecuteTime": {
     "end_time": "2019-06-17T02:05:21.919052Z",
     "start_time": "2019-06-17T02:05:21.912982Z"
    },
    "pycharm": {
     "metadata": false,
     "name": "#%%\n"
    }
   },
   "outputs": [
    {
     "name": "stderr",
     "output_type": "stream",
     "text": [
      "WARNING:root:警告!\n"
     ]
    }
   ],
   "source": [
    "import logging\n",
    "\n",
    "logging.warning('警告!')"
   ]
  },
  {
   "cell_type": "code",
   "execution_count": 5,
   "metadata": {
    "ExecuteTime": {
     "end_time": "2019-06-17T02:05:28.118434Z",
     "start_time": "2019-06-17T02:05:28.114444Z"
    },
    "pycharm": {}
   },
   "outputs": [],
   "source": [
    "import logging\n",
    "\n",
    "logging.info('This is info message')"
   ]
  },
  {
   "cell_type": "code",
   "execution_count": null,
   "metadata": {
    "pycharm": {}
   },
   "outputs": [],
   "source": []
  }
 ],
 "metadata": {
  "kernelspec": {
   "display_name": "Python 3",
   "language": "python",
   "name": "python3"
  },
  "language_info": {
   "codemirror_mode": {
    "name": "ipython",
    "version": 3
   },
   "file_extension": ".py",
   "mimetype": "text/x-python",
   "name": "python",
   "nbconvert_exporter": "python",
   "pygments_lexer": "ipython3",
   "version": "3.7.3"
  }
 },
 "nbformat": 4,
 "nbformat_minor": 2
}
