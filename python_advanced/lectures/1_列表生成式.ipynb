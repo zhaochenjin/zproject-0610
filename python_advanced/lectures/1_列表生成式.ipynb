{
 "cells": [
  {
   "cell_type": "markdown",
   "metadata": {
    "pycharm": {}
   },
   "source": [
    "# Python Adv.\n",
    "\n",
    "## 准备工作\n",
    "\n",
    "`contrib [contrɪb] 爱好者根据需要自行编译并贡献的软件`\n",
    "\n",
    "```\n",
    "λ activate project-0610\n",
    "(project-0610) λ pip install jupyter_contrib_nbextensions\n",
    "(project-0610) λ jupyter contrib nbextensions install --user\n",
    "(project-0610) λ pip install yapf\n",
    "(project-0610) λ jupyter notebook\n",
    "```\n",
    "\n",
    "`Nbextensions` | `Hinterland` `Codefolding`\n",
    "\n",
    "\n",
    "## 列表生成式 `List Comprehensions`"
   ]
  },
  {
   "cell_type": "code",
   "execution_count": 1,
   "metadata": {
    "ExecuteTime": {
     "end_time": "2019-06-12T01:50:00.471138Z",
     "start_time": "2019-06-12T01:50:00.459138Z"
    },
    "pycharm": {}
   },
   "outputs": [
    {
     "data": {
      "text/plain": [
       "[1, 2, 3, 4, 5, 6, 7, 8, 9, 10]"
      ]
     },
     "execution_count": 1,
     "metadata": {},
     "output_type": "execute_result"
    }
   ],
   "source": [
    "list(range(1, 11))"
   ]
  },
  {
   "cell_type": "code",
   "execution_count": 2,
   "metadata": {
    "ExecuteTime": {
     "end_time": "2019-06-12T01:50:03.689323Z",
     "start_time": "2019-06-12T01:50:03.685322Z"
    },
    "pycharm": {}
   },
   "outputs": [
    {
     "data": {
      "text/plain": [
       "[1, 4, 9, 16, 25, 36, 49, 64, 81, 100]"
      ]
     },
     "execution_count": 2,
     "metadata": {},
     "output_type": "execute_result"
    }
   ],
   "source": [
    "# 循环的方法\n",
    "list_a = []\n",
    "for x in range(1,11):\n",
    "    list_a.append(x * x)\n",
    "list_a"
   ]
  },
  {
   "cell_type": "code",
   "execution_count": 4,
   "metadata": {
    "pycharm": {}
   },
   "outputs": [
    {
     "data": {
      "text/plain": [
       "[1, 4, 9, 16, 25, 36, 49, 64, 81, 100]"
      ]
     },
     "execution_count": 4,
     "metadata": {},
     "output_type": "execute_result"
    }
   ],
   "source": [
    "# 列表生成式\n",
    "[x * x for x in range(1,11)]"
   ]
  },
  {
   "cell_type": "code",
   "execution_count": 1,
   "metadata": {
    "ExecuteTime": {
     "end_time": "2019-06-19T01:33:51.353676Z",
     "start_time": "2019-06-19T01:33:51.339740Z"
    },
    "code_folding": [],
    "pycharm": {}
   },
   "outputs": [
    {
     "data": {
      "text/plain": [
       "[4, 16, 36, 64, 100]"
      ]
     },
     "execution_count": 1,
     "metadata": {},
     "output_type": "execute_result"
    }
   ],
   "source": [
    "# if 筛选\n",
    "[x * x for x in range(1, 11) if x%2==0]"
   ]
  },
  {
   "cell_type": "code",
   "execution_count": 2,
   "metadata": {
    "pycharm": {}
   },
   "outputs": [
    {
     "data": {
      "text/plain": [
       "['AX', 'AY', 'AZ', 'BX', 'BY', 'BZ', 'CX', 'CY', 'CZ']"
      ]
     },
     "execution_count": 2,
     "metadata": {},
     "output_type": "execute_result"
    }
   ],
   "source": [
    "# 嵌套循环，全排列\n",
    "[m + n for m in 'ABC' for n in 'XYZ']"
   ]
  },
  {
   "cell_type": "code",
   "execution_count": 3,
   "metadata": {
    "pycharm": {}
   },
   "outputs": [
    {
     "data": {
      "text/plain": [
       "['.ipynb_checkpoints', '1_列表生成式-生成器-迭代器.ipynb']"
      ]
     },
     "execution_count": 3,
     "metadata": {},
     "output_type": "execute_result"
    }
   ],
   "source": [
    "# list files\n",
    "import os\n",
    "[f for f in os.listdir('.')]"
   ]
  },
  {
   "cell_type": "code",
   "execution_count": 4,
   "metadata": {
    "ExecuteTime": {
     "end_time": "2019-06-19T02:58:26.680950Z",
     "start_time": "2019-06-19T02:58:26.673971Z"
    },
    "pycharm": {}
   },
   "outputs": [
    {
     "data": {
      "text/plain": [
       "['k=x, v=A', 'k=y, v=B', 'k=z, v=C']"
      ]
     },
     "execution_count": 4,
     "metadata": {},
     "output_type": "execute_result"
    }
   ],
   "source": [
    "# 两个循环变量\n",
    "d = {'x':'A', 'y':'B', 'z':'C'}\n",
    "\n",
    "['k=' + k  + ', v=' + v  for k, v in d.items()]"
   ]
  },
  {
   "cell_type": "code",
   "execution_count": 8,
   "metadata": {
    "pycharm": {}
   },
   "outputs": [
    {
     "data": {
      "text/plain": [
       "['hello', 'world']"
      ]
     },
     "execution_count": 8,
     "metadata": {},
     "output_type": "execute_result"
    }
   ],
   "source": [
    "list_a = ['Hello', 'World']\n",
    "[x.lower() for x in list_a]"
   ]
  },
  {
   "cell_type": "markdown",
   "metadata": {
    "pycharm": {}
   },
   "source": [
    "## 练习\n",
    "\n",
    "> 列表里的大写字母变小写字母"
   ]
  },
  {
   "cell_type": "code",
   "execution_count": null,
   "metadata": {
    "pycharm": {}
   },
   "outputs": [],
   "source": [
    "list_a = ['A', 'B', 'C', 1, 2, 3, True, False]\n",
    "\n",
    "# list_a=[x.lower() for x in list_a if isinstance(x,str)]\n",
    "list_a = [x.lower() if isinstance(x, str) else x for x in list_a]\n",
    "list_a\n",
    "\n",
    "# list_a = ['a', 'b', 'c', 1, 2, 3, True, False]"
   ]
  }
 ],
 "metadata": {
  "kernelspec": {
   "display_name": "Python 3",
   "language": "python",
   "name": "python3"
  },
  "language_info": {
   "codemirror_mode": {
    "name": "ipython",
    "version": 3
   },
   "file_extension": ".py",
   "mimetype": "text/x-python",
   "name": "python",
   "nbconvert_exporter": "python",
   "pygments_lexer": "ipython3",
   "version": "3.7.3"
  }
 },
 "nbformat": 4,
 "nbformat_minor": 2
}
