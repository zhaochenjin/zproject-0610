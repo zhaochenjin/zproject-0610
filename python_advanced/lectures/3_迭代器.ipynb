{
 "cells": [
  {
   "cell_type": "markdown",
   "metadata": {},
   "source": [
    "# Python Adv.\n",
    "\n",
    "## 迭代器 "
   ]
  },
  {
   "cell_type": "markdown",
   "metadata": {},
   "source": [
    "### 可迭代对象：可以直接作用于 for 循环的对象 `Iterable`\n",
    "\n",
    "`list / tuple / dict / set / str / generator`"
   ]
  },
  {
   "cell_type": "code",
   "execution_count": 9,
   "metadata": {
    "ExecuteTime": {
     "end_time": "2019-06-19T07:17:50.313491Z",
     "start_time": "2019-06-19T07:17:50.306292Z"
    }
   },
   "outputs": [
    {
     "data": {
      "text/plain": [
       "True"
      ]
     },
     "execution_count": 9,
     "metadata": {},
     "output_type": "execute_result"
    }
   ],
   "source": [
    "# isinstance()\n",
    "\n",
    "from collections import Iterable\n",
    "\n",
    "isinstance([], Iterable)  #  list 可迭代对象\n",
    "isinstance((1,), Iterable)   #  tuple 可迭代对象\n",
    "isinstance({1: 2}, Iterable)   #  dict 可迭代对象\n",
    "isinstance({1}, Iterable)   #  set 可迭代对象\n",
    "isinstance('', Iterable)   #  str 可迭代对象"
   ]
  },
  {
   "cell_type": "code",
   "execution_count": 5,
   "metadata": {
    "ExecuteTime": {
     "end_time": "2019-06-11T01:22:22.701345Z",
     "start_time": "2019-06-11T01:22:22.694344Z"
    }
   },
   "outputs": [
    {
     "data": {
      "text/plain": [
       "True"
      ]
     },
     "execution_count": 5,
     "metadata": {},
     "output_type": "execute_result"
    }
   ],
   "source": [
    "isinstance((x for x in range(1, 11)), Iterable)  # generator 可迭代对象"
   ]
  },
  {
   "cell_type": "markdown",
   "metadata": {},
   "source": [
    "### 迭代器：可以被 next() 调用并不断返回下一个值的对象\n",
    "\n",
    "**惰性计算序列**\n",
    "\n",
    "`generator`"
   ]
  },
  {
   "cell_type": "code",
   "execution_count": 14,
   "metadata": {
    "ExecuteTime": {
     "end_time": "2019-06-19T07:23:46.932350Z",
     "start_time": "2019-06-19T07:23:46.924406Z"
    }
   },
   "outputs": [
    {
     "data": {
      "text/plain": [
       "False"
      ]
     },
     "execution_count": 14,
     "metadata": {},
     "output_type": "execute_result"
    }
   ],
   "source": [
    "from collections import Iterator\n",
    "\n",
    "isinstance([], Iterator)  # list 不是迭代器"
   ]
  },
  {
   "cell_type": "code",
   "execution_count": 15,
   "metadata": {
    "ExecuteTime": {
     "end_time": "2019-06-19T07:24:16.961920Z",
     "start_time": "2019-06-19T07:24:16.954665Z"
    }
   },
   "outputs": [
    {
     "data": {
      "text/plain": [
       "True"
      ]
     },
     "execution_count": 15,
     "metadata": {},
     "output_type": "execute_result"
    }
   ],
   "source": [
    "isinstance((x for x in range(1, 11)), Iterator)  # generator 是迭代器"
   ]
  },
  {
   "cell_type": "markdown",
   "metadata": {
    "heading_collapsed": true
   },
   "source": [
    "### Iterable 转为 Iterator\n",
    "\n",
    "`iter`"
   ]
  },
  {
   "cell_type": "code",
   "execution_count": 18,
   "metadata": {
    "ExecuteTime": {
     "end_time": "2019-06-19T07:25:28.084581Z",
     "start_time": "2019-06-19T07:25:28.076603Z"
    },
    "hidden": true
   },
   "outputs": [
    {
     "data": {
      "text/plain": [
       "1"
      ]
     },
     "execution_count": 18,
     "metadata": {},
     "output_type": "execute_result"
    }
   ],
   "source": [
    "isinstance(iter([]), Iterator) # 使list 由迭代对象转变为迭代器 通过 iter\n",
    "\n",
    "list_a = [1, 2, 3]\n",
    "g_a = iter(list_a)\n",
    "next(g_a)"
   ]
  },
  {
   "cell_type": "markdown",
   "metadata": {},
   "source": [
    "## 练习\n",
    "\n",
    "> for 循环的本质\n",
    "\n",
    "    1. 实现了 __iter__ 方法，返回一个 Iterator\n",
    "    2. 实现了 __next__ 方法，Iterator 调用此方法返回元素\n",
    "\n",
    ">for 循环的本质\n",
    "\n",
    "    1. 判断对象是否为 Iterable\n",
    "        - 不是，TypeError: 'some' object is not Iterable\n",
    "        - 是，调用 __iter__，返回一个 Iterator\n",
    "    2. 调用 Iterator 的 __next__ 方法，依次返回元素\n",
    "    3. 迭代到最后，抛出 StopIterator 异常，异常自行处理"
   ]
  },
  {
   "cell_type": "code",
   "execution_count": 19,
   "metadata": {
    "ExecuteTime": {
     "end_time": "2019-06-19T08:18:49.683659Z",
     "start_time": "2019-06-19T08:18:49.675908Z"
    }
   },
   "outputs": [
    {
     "data": {
      "text/plain": [
       "3"
      ]
     },
     "execution_count": 19,
     "metadata": {},
     "output_type": "execute_result"
    }
   ],
   "source": [
    "test = [1, 2, 3]  # Iterable\n",
    "g = test.__iter__()\n",
    "g.__next__()\n",
    "g.__next__()\n",
    "g.__next__()\n",
    "# g.__next__()"
   ]
  },
  {
   "cell_type": "code",
   "execution_count": 20,
   "metadata": {
    "ExecuteTime": {
     "end_time": "2019-06-19T08:20:02.909916Z",
     "start_time": "2019-06-19T08:20:02.897945Z"
    }
   },
   "outputs": [
    {
     "name": "stdout",
     "output_type": "stream",
     "text": [
      "0\n",
      "1\n",
      "2\n",
      "3\n",
      "4\n",
      "5\n",
      "6\n",
      "7\n",
      "8\n",
      "9\n"
     ]
    }
   ],
   "source": [
    "class Test(object):\n",
    "    \n",
    "    def __init__(self, n):\n",
    "        self.i = 0\n",
    "        self.n = n\n",
    "    \n",
    "    def __iter__(self):\n",
    "        return self\n",
    "    \n",
    "    def __next__(self):\n",
    "        if self.i < self.n:\n",
    "            temp = self.i\n",
    "            self.i = self.i + 1\n",
    "            return temp\n",
    "        else:\n",
    "            raise StopIteration('StopIteration...')\n",
    "\n",
    "t = Test(10)\n",
    "\n",
    "for i in t:\n",
    "    print(i)"
   ]
  },
  {
   "cell_type": "code",
   "execution_count": null,
   "metadata": {},
   "outputs": [],
   "source": []
  }
 ],
 "metadata": {
  "kernelspec": {
   "display_name": "Python 3",
   "language": "python",
   "name": "python3"
  },
  "language_info": {
   "codemirror_mode": {
    "name": "ipython",
    "version": 3
   },
   "file_extension": ".py",
   "mimetype": "text/x-python",
   "name": "python",
   "nbconvert_exporter": "python",
   "pygments_lexer": "ipython3",
   "version": "3.7.3"
  }
 },
 "nbformat": 4,
 "nbformat_minor": 2
}
