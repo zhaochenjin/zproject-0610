{
  "cells": [
    {
      "cell_type": "code",
      "execution_count": 1,
      "metadata": {
        "pycharm": {
          "is_executing": false
        }
      },
      "outputs": [
        {
          "traceback": [
            "\u001b[1;31m---------------------------------------------------------------------------\u001b[0m",
            "\u001b[1;31mModuleNotFoundError\u001b[0m                       Traceback (most recent call last)",
            "\u001b[1;32m\u003cipython-input-1-42e748db0852\u003e\u001b[0m in \u001b[0;36m\u003cmodule\u003e\u001b[1;34m\u001b[0m\n\u001b[1;32m----\u003e 1\u001b[1;33m \u001b[1;32mimport\u001b[0m \u001b[0mpymysql\u001b[0m\u001b[1;33m\u001b[0m\u001b[1;33m\u001b[0m\u001b[0m\n\u001b[0m\u001b[0;32m      2\u001b[0m \u001b[1;32mimport\u001b[0m \u001b[0mpandas\u001b[0m \u001b[1;32mas\u001b[0m \u001b[0mpd\u001b[0m\u001b[1;33m\u001b[0m\u001b[1;33m\u001b[0m\u001b[0m\n\u001b[0;32m      3\u001b[0m \u001b[1;32mfrom\u001b[0m \u001b[0msklearn\u001b[0m\u001b[1;33m.\u001b[0m\u001b[0mlinear_model\u001b[0m \u001b[1;32mimport\u001b[0m \u001b[0mLinearRegression\u001b[0m\u001b[1;33m\u001b[0m\u001b[1;33m\u001b[0m\u001b[0m\n\u001b[0;32m      4\u001b[0m \u001b[1;33m\u001b[0m\u001b[0m\n\u001b[0;32m      5\u001b[0m \u001b[1;32mimport\u001b[0m \u001b[0msys\u001b[0m\u001b[1;33m\u001b[0m\u001b[1;33m\u001b[0m\u001b[0m\n",
            "\u001b[1;31mModuleNotFoundError\u001b[0m: No module named \u0027pymysql\u0027"
          ],
          "ename": "ModuleNotFoundError",
          "evalue": "No module named \u0027pymysql\u0027",
          "output_type": "error"
        }
      ],
      "source": [
        "import pymysql\n",
        "import pandas as pd\n",
        "from sklearn.linear_model import LinearRegression\n",
        "\n",
        "import sys\n",
        "import numpy"
      ]
    },
    {
      "cell_type": "code",
      "execution_count": null,
      "metadata": {
        "pycharm": {}
      },
      "outputs": [],
      "source": [
        "numpy.set_printoptions(threshold\u003dsys.maxsize)"
      ]
    },
    {
      "cell_type": "code",
      "execution_count": null,
      "metadata": {
        "pycharm": {}
      },
      "outputs": [],
      "source": [
        "def get_connection():\n",
        "    connection \u003d pymysql.connect(\n",
        "        user\u003d\u0027root\u0027,\n",
        "        password\u003d\u0027123456\u0027\n",
        "    )\n",
        "    return connection"
      ]
    },
    {
      "cell_type": "code",
      "execution_count": null,
      "metadata": {
        "pycharm": {}
      },
      "outputs": [],
      "source": "sql \u003d \u0027select * from db_ml.train_data\u0027\n\ntrain \u003d pd.read_sql(sql\u003dsql, con\u003dget_connection())\n\nx \u003d train.drop(labels\u003d\u0027order_count\u0027, axis\u003d1)\ny \u003d train[[\u0027order_count\u0027]]\n\nlr \u003d LinearRegression()\nlr.fit(x, y)\n\nsql \u003d \u0027select * from db_ml.test_data\u0027\n\ntest \u003d pd.read_sql(sql\u003dsql, con\u003dget_connection())\n\nx_test \u003d test[\n    [\n        \"s_petrol\", \"s_market\", \"s_uptown\", \"s_metro\", \"s_bus\",\n        \"s_cafe\", \"s_restaurant\", \"s_atm\", \"s_office\", \"s_hotel\",\n        \"e_petrol\", \"e_market\", \"e_uptown\", \"e_metro\", \"e_bus\",\n        \"e_cafe\", \"e_restaurant\", \"e_atm\", \"e_office\", \"e_hotel\",\n        \"w_temperature\", \"w_feels_like\", \"w_pressure\", \"w_humidity\",\n        \"w_visibility\", \"w_direction_degree\", \"w_wind_speed\"\n    ]\n]\n\ny_predict \u003d lr.predict(x_test)\n"
    },
    {
      "cell_type": "code",
      "execution_count": null,
      "outputs": [],
      "source": "print(\u0027y predict\u0027, y_predict)",
      "metadata": {
        "pycharm": {
          "metadata": false,
          "name": "#%%\n"
        }
      }
    },
    {
      "cell_type": "code",
      "execution_count": null,
      "outputs": [],
      "source": "print(\u0027y predict type\u0027, type(y_predict))\nprint(\u0027y predict size\u0027, y_predict.size)",
      "metadata": {
        "pycharm": {
          "metadata": false,
          "name": "#%%\n"
        }
      }
    },
    {
      "cell_type": "code",
      "execution_count": null,
      "outputs": [],
      "source": "",
      "metadata": {
        "pycharm": {
          "metadata": false,
          "name": "#%%\n"
        }
      }
    }
  ],
  "metadata": {
    "kernelspec": {
      "display_name": "Python 3",
      "language": "python",
      "name": "python3"
    },
    "language_info": {
      "codemirror_mode": {
        "name": "ipython",
        "version": 3
      },
      "file_extension": ".py",
      "mimetype": "text/x-python",
      "name": "python",
      "nbconvert_exporter": "python",
      "pygments_lexer": "ipython3",
      "version": "3.7.3"
    }
  },
  "nbformat": 4,
  "nbformat_minor": 2
}