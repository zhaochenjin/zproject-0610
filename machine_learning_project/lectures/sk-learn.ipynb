{
  "cells": [
    {
      "cell_type": "markdown",
      "metadata": {
        "ExecuteTime": {
          "end_time": "2019-06-28T09:16:04.776484Z",
          "start_time": "2019-06-28T09:16:04.773484Z"
        },
        "pycharm": {}
      },
      "source": [
        "# sk-learn"
      ]
    },
    {
      "cell_type": "markdown",
      "metadata": {
        "pycharm": {}
      },
      "source": [
        "## Install\n",
        "\n",
        "`(project-0610) λ conda install scikit-learn`"
      ]
    },
    {
      "cell_type": "markdown",
      "metadata": {
        "pycharm": {}
      },
      "source": [
        "[Tutorial](https://scikit-learn.org/stable/tutorial/basic/tutorial.html)"
      ]
    },
    {
      "cell_type": "code",
      "execution_count": 3,
      "metadata": {
        "ExecuteTime": {
          "end_time": "2019-07-02T03:26:38.778139Z",
          "start_time": "2019-07-02T03:26:38.702345Z"
        },
        "pycharm": {}
      },
      "outputs": [
        {
          "name": "stdout",
          "output_type": "stream",
          "text": [
            "[[ 0.  0.  5. ...  0.  0.  0.]\n",
            " [ 0.  0.  0. ... 10.  0.  0.]\n",
            " [ 0.  0.  0. ... 16.  9.  0.]\n",
            " ...\n",
            " [ 0.  0.  1. ...  6.  0.  0.]\n",
            " [ 0.  0.  2. ... 12.  0.  0.]\n",
            " [ 0.  0. 10. ... 12.  1.  0.]]\n",
            "[0 1 2 ... 8 9 8]\n"
          ]
        }
      ],
      "source": "from sklearn import datasets\n\n# 以下程序将输出sklearn库中内置的一个用于记录数字码点阵图的训练数据集及其分类\n# 请点击运行按钮查看内部数据\n\ndigits \u003d datasets.load_digits() # 读取数据\nprint(digits.data)  # 将images按行展开成一行\nprint(digits.target)  # 指明每张数字的标签 # [0 1 2 ... 8 9 8]\n"
    },
    {
      "cell_type": "code",
      "execution_count": 4,
      "metadata": {
        "ExecuteTime": {
          "end_time": "2019-06-28T09:23:18.388285Z",
          "start_time": "2019-06-28T09:23:18.043265Z"
        },
        "pycharm": {}
      },
      "outputs": [
        {
          "data": {
            "image/png": "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\u003d\n",
            "text/plain": [
              "\u003cFigure size 432x288 with 4 Axes\u003e"
            ]
          },
          "metadata": {
            "needs_background": "light"
          },
          "output_type": "display_data"
        }
      ],
      "source": [
        "import matplotlib.pyplot as plt\n",
        "from sklearn import datasets\n",
        "\n",
        "digits \u003d datasets.load_digits()\n",
        "\n",
        "# 下面我们将输出四张数字码（0、1、2、3）的8x8点阵图，\n",
        "# 点阵图的数据从datasets读取并存储在digits中，\n",
        "# 我们可以通过matplotlib所提供的方法显示这些点阵图，\n",
        "# 请点击运行按钮查看效果。\n",
        "\n",
        "images_and_labels \u003d list(zip(digits.images, digits.target))\n",
        "for index, (image, label) in enumerate(images_and_labels[:4]):\n",
        "    plt.subplot(2, 4, index + 1)\n",
        "    plt.axis(\u0027off\u0027)\n",
        "    plt.imshow(image, cmap\u003dplt.cm.gray_r, interpolation\u003d\u0027nearest\u0027)\n",
        "    plt.title(\u0027Training: %i\u0027 % label)\n",
        "    \n",
        "plt.show()"
      ]
    },
    {
      "cell_type": "code",
      "execution_count": 5,
      "metadata": {
        "ExecuteTime": {
          "end_time": "2019-06-28T09:23:35.502264Z",
          "start_time": "2019-06-28T09:23:34.832226Z"
        },
        "pycharm": {}
      },
      "outputs": [
        {
          "data": {
            "text/plain": [
              "SVC(C\u003d100.0, cache_size\u003d200, class_weight\u003dNone, coef0\u003d0.0,\n",
              "    decision_function_shape\u003d\u0027ovr\u0027, degree\u003d3, gamma\u003d0.001, kernel\u003d\u0027rbf\u0027,\n",
              "    max_iter\u003d-1, probability\u003dFalse, random_state\u003dNone, shrinking\u003dTrue,\n",
              "    tol\u003d0.001, verbose\u003dFalse)"
            ]
          },
          "execution_count": 5,
          "metadata": {},
          "output_type": "execute_result"
        }
      ],
      "source": [
        "from sklearn import datasets, svm\n",
        "# 读取数据\n",
        "digits \u003d datasets.load_digits()\n",
        "# 建立SVM分类器\n",
        "clf \u003d svm.SVC(gamma\u003d0.001, C\u003d100.)\n",
        "# 使用训练数据对分类器进行训练，它将会返回分类器的某些参数设置\n",
        "clf.fit(digits.data[:-1], digits.target[:-1])\n"
      ]
    },
    {
      "cell_type": "code",
      "execution_count": 7,
      "metadata": {
        "ExecuteTime": {
          "end_time": "2019-06-28T09:24:47.041356Z",
          "start_time": "2019-06-28T09:24:46.634332Z"
        },
        "pycharm": {}
      },
      "outputs": [
        {
          "name": "stdout",
          "output_type": "stream",
          "text": [
            "对图片的预测结果为：\n"
          ]
        },
        {
          "ename": "ValueError",
          "evalue": "Expected 2D array, got 1D array instead:\narray\u003d[ 0.  0. 10. 14.  8.  1.  0.  0.  0.  2. 16. 14.  6.  1.  0.  0.  0.  0.\n 15. 15.  8. 15.  0.  0.  0.  0.  5. 16. 16. 10.  0.  0.  0.  0. 12. 15.\n 15. 12.  0.  0.  0.  4. 16.  6.  4. 16.  6.  0.  0.  8. 16. 10.  8. 16.\n  8.  0.  0.  1.  8. 12. 14. 12.  1.  0.].\nReshape your data either using array.reshape(-1, 1) if your data has a single feature or array.reshape(1, -1) if it contains a single sample.",
          "output_type": "error",
          "traceback": [
            "\u001b[1;31m---------------------------------------------------------------------------\u001b[0m",
            "\u001b[1;31mValueError\u001b[0m                                Traceback (most recent call last)",
            "\u001b[1;32m\u003cipython-input-7-3f9bd2fd15db\u003e\u001b[0m in \u001b[0;36m\u003cmodule\u003e\u001b[1;34m\u001b[0m\n\u001b[0;32m     24\u001b[0m \u001b[1;33m\u001b[0m\u001b[0m\n\u001b[0;32m     25\u001b[0m \u001b[0mprint\u001b[0m\u001b[1;33m(\u001b[0m\u001b[1;34m\"对图片的预测结果为：\"\u001b[0m\u001b[1;33m)\u001b[0m\u001b[1;33m\u001b[0m\u001b[1;33m\u001b[0m\u001b[0m\n\u001b[1;32m---\u003e 26\u001b[1;33m \u001b[0mprint\u001b[0m\u001b[1;33m(\u001b[0m\u001b[0mclf\u001b[0m\u001b[1;33m.\u001b[0m\u001b[0mpredict\u001b[0m\u001b[1;33m(\u001b[0m\u001b[0mnp\u001b[0m\u001b[1;33m.\u001b[0m\u001b[0masarray\u001b[0m\u001b[1;33m(\u001b[0m\u001b[0mtest\u001b[0m\u001b[1;33m)\u001b[0m\u001b[1;33m)\u001b[0m\u001b[1;33m)\u001b[0m\u001b[1;33m\u001b[0m\u001b[1;33m\u001b[0m\u001b[0m\n\u001b[0m\u001b[0;32m     27\u001b[0m \u001b[1;33m\u001b[0m\u001b[0m\n\u001b[0;32m     28\u001b[0m \u001b[1;31m# 下面这个函数将自动完成绘图任务\u001b[0m\u001b[1;33m\u001b[0m\u001b[1;33m\u001b[0m\u001b[1;33m\u001b[0m\u001b[0m\n",
            "\u001b[1;32mD:\\Anaconda3\\envs\\project-0610\\lib\\site-packages\\sklearn\\svm\\base.py\u001b[0m in \u001b[0;36mpredict\u001b[1;34m(self, X)\u001b[0m\n\u001b[0;32m    572\u001b[0m             \u001b[0mClass\u001b[0m \u001b[0mlabels\u001b[0m \u001b[1;32mfor\u001b[0m \u001b[0msamples\u001b[0m \u001b[1;32min\u001b[0m \u001b[0mX\u001b[0m\u001b[1;33m.\u001b[0m\u001b[1;33m\u001b[0m\u001b[1;33m\u001b[0m\u001b[0m\n\u001b[0;32m    573\u001b[0m         \"\"\"\n\u001b[1;32m--\u003e 574\u001b[1;33m         \u001b[0my\u001b[0m \u001b[1;33m\u003d\u001b[0m \u001b[0msuper\u001b[0m\u001b[1;33m(\u001b[0m\u001b[1;33m)\u001b[0m\u001b[1;33m.\u001b[0m\u001b[0mpredict\u001b[0m\u001b[1;33m(\u001b[0m\u001b[0mX\u001b[0m\u001b[1;33m)\u001b[0m\u001b[1;33m\u001b[0m\u001b[1;33m\u001b[0m\u001b[0m\n\u001b[0m\u001b[0;32m    575\u001b[0m         \u001b[1;32mreturn\u001b[0m \u001b[0mself\u001b[0m\u001b[1;33m.\u001b[0m\u001b[0mclasses_\u001b[0m\u001b[1;33m.\u001b[0m\u001b[0mtake\u001b[0m\u001b[1;33m(\u001b[0m\u001b[0mnp\u001b[0m\u001b[1;33m.\u001b[0m\u001b[0masarray\u001b[0m\u001b[1;33m(\u001b[0m\u001b[0my\u001b[0m\u001b[1;33m,\u001b[0m \u001b[0mdtype\u001b[0m\u001b[1;33m\u003d\u001b[0m\u001b[0mnp\u001b[0m\u001b[1;33m.\u001b[0m\u001b[0mintp\u001b[0m\u001b[1;33m)\u001b[0m\u001b[1;33m)\u001b[0m\u001b[1;33m\u001b[0m\u001b[1;33m\u001b[0m\u001b[0m\n\u001b[0;32m    576\u001b[0m \u001b[1;33m\u001b[0m\u001b[0m\n",
            "\u001b[1;32mD:\\Anaconda3\\envs\\project-0610\\lib\\site-packages\\sklearn\\svm\\base.py\u001b[0m in \u001b[0;36mpredict\u001b[1;34m(self, X)\u001b[0m\n\u001b[0;32m    320\u001b[0m         \u001b[0my_pred\u001b[0m \u001b[1;33m:\u001b[0m \u001b[0marray\u001b[0m\u001b[1;33m,\u001b[0m \u001b[0mshape\u001b[0m \u001b[1;33m(\u001b[0m\u001b[0mn_samples\u001b[0m\u001b[1;33m,\u001b[0m\u001b[1;33m)\u001b[0m\u001b[1;33m\u001b[0m\u001b[1;33m\u001b[0m\u001b[0m\n\u001b[0;32m    321\u001b[0m         \"\"\"\n\u001b[1;32m--\u003e 322\u001b[1;33m         \u001b[0mX\u001b[0m \u001b[1;33m\u003d\u001b[0m \u001b[0mself\u001b[0m\u001b[1;33m.\u001b[0m\u001b[0m_validate_for_predict\u001b[0m\u001b[1;33m(\u001b[0m\u001b[0mX\u001b[0m\u001b[1;33m)\u001b[0m\u001b[1;33m\u001b[0m\u001b[1;33m\u001b[0m\u001b[0m\n\u001b[0m\u001b[0;32m    323\u001b[0m         \u001b[0mpredict\u001b[0m \u001b[1;33m\u003d\u001b[0m \u001b[0mself\u001b[0m\u001b[1;33m.\u001b[0m\u001b[0m_sparse_predict\u001b[0m \u001b[1;32mif\u001b[0m \u001b[0mself\u001b[0m\u001b[1;33m.\u001b[0m\u001b[0m_sparse\u001b[0m \u001b[1;32melse\u001b[0m \u001b[0mself\u001b[0m\u001b[1;33m.\u001b[0m\u001b[0m_dense_predict\u001b[0m\u001b[1;33m\u001b[0m\u001b[1;33m\u001b[0m\u001b[0m\n\u001b[0;32m    324\u001b[0m         \u001b[1;32mreturn\u001b[0m \u001b[0mpredict\u001b[0m\u001b[1;33m(\u001b[0m\u001b[0mX\u001b[0m\u001b[1;33m)\u001b[0m\u001b[1;33m\u001b[0m\u001b[1;33m\u001b[0m\u001b[0m\n",
            "\u001b[1;32mD:\\Anaconda3\\envs\\project-0610\\lib\\site-packages\\sklearn\\svm\\base.py\u001b[0m in \u001b[0;36m_validate_for_predict\u001b[1;34m(self, X)\u001b[0m\n\u001b[0;32m    452\u001b[0m \u001b[1;33m\u001b[0m\u001b[0m\n\u001b[0;32m    453\u001b[0m         X \u003d check_array(X, accept_sparse\u003d\u0027csr\u0027, dtype\u003dnp.float64, order\u003d\"C\",\n\u001b[1;32m--\u003e 454\u001b[1;33m                         accept_large_sparse\u003dFalse)\n\u001b[0m\u001b[0;32m    455\u001b[0m         \u001b[1;32mif\u001b[0m \u001b[0mself\u001b[0m\u001b[1;33m.\u001b[0m\u001b[0m_sparse\u001b[0m \u001b[1;32mand\u001b[0m \u001b[1;32mnot\u001b[0m \u001b[0msp\u001b[0m\u001b[1;33m.\u001b[0m\u001b[0misspmatrix\u001b[0m\u001b[1;33m(\u001b[0m\u001b[0mX\u001b[0m\u001b[1;33m)\u001b[0m\u001b[1;33m:\u001b[0m\u001b[1;33m\u001b[0m\u001b[1;33m\u001b[0m\u001b[0m\n\u001b[0;32m    456\u001b[0m             \u001b[0mX\u001b[0m \u001b[1;33m\u003d\u001b[0m \u001b[0msp\u001b[0m\u001b[1;33m.\u001b[0m\u001b[0mcsr_matrix\u001b[0m\u001b[1;33m(\u001b[0m\u001b[0mX\u001b[0m\u001b[1;33m)\u001b[0m\u001b[1;33m\u001b[0m\u001b[1;33m\u001b[0m\u001b[0m\n",
            "\u001b[1;32mD:\\Anaconda3\\envs\\project-0610\\lib\\site-packages\\sklearn\\utils\\validation.py\u001b[0m in \u001b[0;36mcheck_array\u001b[1;34m(array, accept_sparse, accept_large_sparse, dtype, order, copy, force_all_finite, ensure_2d, allow_nd, ensure_min_samples, ensure_min_features, warn_on_dtype, estimator)\u001b[0m\n\u001b[0;32m    519\u001b[0m                     \u001b[1;34m\"Reshape your data either using array.reshape(-1, 1) if \"\u001b[0m\u001b[1;33m\u001b[0m\u001b[1;33m\u001b[0m\u001b[0m\n\u001b[0;32m    520\u001b[0m                     \u001b[1;34m\"your data has a single feature or array.reshape(1, -1) \"\u001b[0m\u001b[1;33m\u001b[0m\u001b[1;33m\u001b[0m\u001b[0m\n\u001b[1;32m--\u003e 521\u001b[1;33m                     \"if it contains a single sample.\".format(array))\n\u001b[0m\u001b[0;32m    522\u001b[0m \u001b[1;33m\u001b[0m\u001b[0m\n\u001b[0;32m    523\u001b[0m         \u001b[1;31m# in the future np.flexible dtypes will be handled like object dtypes\u001b[0m\u001b[1;33m\u001b[0m\u001b[1;33m\u001b[0m\u001b[1;33m\u001b[0m\u001b[0m\n",
            "\u001b[1;31mValueError\u001b[0m: Expected 2D array, got 1D array instead:\narray\u003d[ 0.  0. 10. 14.  8.  1.  0.  0.  0.  2. 16. 14.  6.  1.  0.  0.  0.  0.\n 15. 15.  8. 15.  0.  0.  0.  0.  5. 16. 16. 10.  0.  0.  0.  0. 12. 15.\n 15. 12.  0.  0.  0.  4. 16.  6.  4. 16.  6.  0.  0.  8. 16. 10.  8. 16.\n  8.  0.  0.  1.  8. 12. 14. 12.  1.  0.].\nReshape your data either using array.reshape(-1, 1) if your data has a single feature or array.reshape(1, -1) if it contains a single sample."
          ]
        },
        {
          "data": {
            "image/png": "iVBORw0KGgoAAAANSUhEUgAAAV0AAADnCAYAAAC9roUQAAAABHNCSVQICAgIfAhkiAAAAAlwSFlzAAALEgAACxIB0t1+/AAAADh0RVh0U29mdHdhcmUAbWF0cGxvdGxpYiB2ZXJzaW9uMy4xLjAsIGh0dHA6Ly9tYXRwbG90bGliLm9yZy+17YcXAAADKUlEQVR4nO3UMQEAIAzAMMC/5+GiHCQKenXPzAKgcV4HAPzEdAFCpgsQMl2AkOkChEwXIGS6ACHTBQiZLkDIdAFCpgsQMl2AkOkChEwXIGS6ACHTBQiZLkDIdAFCpgsQMl2AkOkChEwXIGS6ACHTBQiZLkDIdAFCpgsQMl2AkOkChEwXIGS6ACHTBQiZLkDIdAFCpgsQMl2AkOkChEwXIGS6ACHTBQiZLkDIdAFCpgsQMl2AkOkChEwXIGS6ACHTBQiZLkDIdAFCpgsQMl2AkOkChEwXIGS6ACHTBQiZLkDIdAFCpgsQMl2AkOkChEwXIGS6ACHTBQiZLkDIdAFCpgsQMl2AkOkChEwXIGS6ACHTBQiZLkDIdAFCpgsQMl2AkOkChEwXIGS6ACHTBQiZLkDIdAFCpgsQMl2AkOkChEwXIGS6ACHTBQiZLkDIdAFCpgsQMl2AkOkChEwXIGS6ACHTBQiZLkDIdAFCpgsQMl2AkOkChEwXIGS6ACHTBQiZLkDIdAFCpgsQMl2AkOkChEwXIGS6ACHTBQiZLkDIdAFCpgsQMl2AkOkChEwXIGS6ACHTBQiZLkDIdAFCpgsQMl2AkOkChEwXIGS6ACHTBQiZLkDIdAFCpgsQMl2AkOkChEwXIGS6ACHTBQiZLkDIdAFCpgsQMl2AkOkChEwXIGS6ACHTBQiZLkDIdAFCpgsQMl2AkOkChEwXIGS6ACHTBQiZLkDIdAFCpgsQMl2AkOkChEwXIGS6ACHTBQiZLkDIdAFCpgsQMl2AkOkChEwXIGS6ACHTBQiZLkDIdAFCpgsQMl2AkOkChEwXIGS6ACHTBQiZLkDIdAFCpgsQMl2AkOkChEwXIGS6ACHTBQiZLkDIdAFCpgsQMl2AkOkChEwXIGS6ACHTBQiZLkDIdAFCpgsQMl2AkOkChEwXIGS6ACHTBQiZLkDIdAFCpgsQMl2AkOkChEwXIGS6ACHTBQiZLkDIdAFCpgsQMl2AkOkChEwXIGS6ACHTBQiZLkDIdAFCpgsQMl2AkOkChEwXIGS6ACHTBQiZLkDIdAFCpgsQMl2AkOkChEwXIHQBcjcEy3+fc28AAAAASUVORK5CYII\u003d\n",
            "text/plain": [
              "\u003cFigure size 432x288 with 1 Axes\u003e"
            ]
          },
          "metadata": {
            "needs_background": "light"
          },
          "output_type": "display_data"
        }
      ],
      "source": "from sklearn import datasets, svm\nimport matplotlib.pyplot as plt\nimport numpy as np\n\ndigits \u003d datasets.load_digits()  # 读取数据\nplt.axis(\u0027off\u0027)   # 不显示坐标尺寸\nclf \u003d svm.SVC(gamma\u003d0.001, C\u003d100.)  # 建立SVM分类器\nclf.fit(digits.data[:-1], digits.target[:-1]) # 使用训练数据对分类器进行训练，它将会返回分类器的某些参数设置\n\n\ndef showresult(test) :\n    plt.imshow((np.asarray(test)).reshape((8,8)), cmap\u003dplt.cm.gray_r, interpolation\u003d\u0027nearest\u0027)\n\n# 用于计算的部分代码已被隐藏，以下是用于预测的未知数据\n# 你可以改变这个数据中的数字，但必须保证数组元素个数为64，否则将会出错\n\n\ntest \u003d [0, 0, 10, 14, 8, 1, 0, 0,\n        0, 2, 16, 14, 6, 1, 0, 0,\n        0, 0, 15, 15, 8, 15, 0, 0,\n        0, 0, 5, 16, 16, 10, 0, 0,\n        0, 0, 12, 15, 15, 12, 0, 0,\n        0, 4, 16, 6, 4, 16, 6, 0,\n        0, 8, 16, 10, 8, 16, 8, 0,\n        0, 1, 8, 12, 14, 12, 1, 0]\n\nprint(\"对图片的预测结果为：\")\nprint(clf.predict(np.asarray(test)))\n\n# 下面这个函数将自动完成绘图任务\nshowresult(test)"
    }
  ],
  "metadata": {
    "kernelspec": {
      "display_name": "Python 3",
      "language": "python",
      "name": "python3"
    },
    "language_info": {
      "codemirror_mode": {
        "name": "ipython",
        "version": 3
      },
      "file_extension": ".py",
      "mimetype": "text/x-python",
      "name": "python",
      "nbconvert_exporter": "python",
      "pygments_lexer": "ipython3",
      "version": "3.7.3"
    },
    "toc": {
      "base_numbering": 1,
      "nav_menu": {},
      "number_sections": true,
      "sideBar": true,
      "skip_h1_title": false,
      "title_cell": "Table of Contents",
      "title_sidebar": "Contents",
      "toc_cell": false,
      "toc_position": {},
      "toc_section_display": true,
      "toc_window_display": true
    }
  },
  "nbformat": 4,
  "nbformat_minor": 2
}